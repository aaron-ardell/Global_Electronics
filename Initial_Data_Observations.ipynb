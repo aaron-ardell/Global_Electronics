{
 "cells": [
  {
   "cell_type": "code",
   "execution_count": 1,
   "id": "9c2059d9",
   "metadata": {},
   "outputs": [],
   "source": [
    "import pandas as pd"
   ]
  },
  {
   "cell_type": "markdown",
   "id": "23469e51",
   "metadata": {},
   "source": [
    "##Customer's Table"
   ]
  },
  {
   "cell_type": "code",
   "execution_count": 4,
   "id": "6d8dbd97",
   "metadata": {},
   "outputs": [
    {
     "data": {
      "text/html": [
       "<div>\n",
       "<style scoped>\n",
       "    .dataframe tbody tr th:only-of-type {\n",
       "        vertical-align: middle;\n",
       "    }\n",
       "\n",
       "    .dataframe tbody tr th {\n",
       "        vertical-align: top;\n",
       "    }\n",
       "\n",
       "    .dataframe thead th {\n",
       "        text-align: right;\n",
       "    }\n",
       "</style>\n",
       "<table border=\"1\" class=\"dataframe\">\n",
       "  <thead>\n",
       "    <tr style=\"text-align: right;\">\n",
       "      <th></th>\n",
       "      <th>Gender</th>\n",
       "      <th>Name</th>\n",
       "      <th>City</th>\n",
       "      <th>State Code</th>\n",
       "      <th>State</th>\n",
       "      <th>Zip Code</th>\n",
       "      <th>Country</th>\n",
       "      <th>Continent</th>\n",
       "      <th>Birthday</th>\n",
       "    </tr>\n",
       "    <tr>\n",
       "      <th>CustomerKey</th>\n",
       "      <th></th>\n",
       "      <th></th>\n",
       "      <th></th>\n",
       "      <th></th>\n",
       "      <th></th>\n",
       "      <th></th>\n",
       "      <th></th>\n",
       "      <th></th>\n",
       "      <th></th>\n",
       "    </tr>\n",
       "  </thead>\n",
       "  <tbody>\n",
       "    <tr>\n",
       "      <th>2099600</th>\n",
       "      <td>Female</td>\n",
       "      <td>Denisa Duková</td>\n",
       "      <td>Houston</td>\n",
       "      <td>TX</td>\n",
       "      <td>Texas</td>\n",
       "      <td>77017</td>\n",
       "      <td>United States</td>\n",
       "      <td>North America</td>\n",
       "      <td>3/25/1936</td>\n",
       "    </tr>\n",
       "    <tr>\n",
       "      <th>2099618</th>\n",
       "      <td>Male</td>\n",
       "      <td>Justin Solórzano</td>\n",
       "      <td>Mclean</td>\n",
       "      <td>VA</td>\n",
       "      <td>Virginia</td>\n",
       "      <td>22101</td>\n",
       "      <td>United States</td>\n",
       "      <td>North America</td>\n",
       "      <td>2/16/1992</td>\n",
       "    </tr>\n",
       "    <tr>\n",
       "      <th>2099758</th>\n",
       "      <td>Male</td>\n",
       "      <td>Svend Petrussen</td>\n",
       "      <td>Wilmington</td>\n",
       "      <td>NC</td>\n",
       "      <td>North Carolina</td>\n",
       "      <td>28405</td>\n",
       "      <td>United States</td>\n",
       "      <td>North America</td>\n",
       "      <td>11/9/1937</td>\n",
       "    </tr>\n",
       "    <tr>\n",
       "      <th>2099862</th>\n",
       "      <td>Female</td>\n",
       "      <td>Lorenza Rush</td>\n",
       "      <td>Riverside</td>\n",
       "      <td>CA</td>\n",
       "      <td>California</td>\n",
       "      <td>92501</td>\n",
       "      <td>United States</td>\n",
       "      <td>North America</td>\n",
       "      <td>10/12/1937</td>\n",
       "    </tr>\n",
       "    <tr>\n",
       "      <th>2099937</th>\n",
       "      <td>Male</td>\n",
       "      <td>Zygmunt Kaminski</td>\n",
       "      <td>Bloomfield Township</td>\n",
       "      <td>MI</td>\n",
       "      <td>Michigan</td>\n",
       "      <td>48302</td>\n",
       "      <td>United States</td>\n",
       "      <td>North America</td>\n",
       "      <td>8/18/1965</td>\n",
       "    </tr>\n",
       "  </tbody>\n",
       "</table>\n",
       "</div>"
      ],
      "text/plain": [
       "             Gender              Name                 City State Code  \\\n",
       "CustomerKey                                                             \n",
       "2099600      Female    Denisa Duková              Houston         TX   \n",
       "2099618        Male  Justin Solórzano               Mclean         VA   \n",
       "2099758        Male   Svend Petrussen           Wilmington         NC   \n",
       "2099862      Female      Lorenza Rush            Riverside         CA   \n",
       "2099937        Male  Zygmunt Kaminski  Bloomfield Township         MI   \n",
       "\n",
       "                      State Zip Code        Country      Continent    Birthday  \n",
       "CustomerKey                                                                     \n",
       "2099600               Texas    77017  United States  North America   3/25/1936  \n",
       "2099618            Virginia    22101  United States  North America   2/16/1992  \n",
       "2099758      North Carolina    28405  United States  North America   11/9/1937  \n",
       "2099862          California    92501  United States  North America  10/12/1937  \n",
       "2099937            Michigan    48302  United States  North America   8/18/1965  "
      ]
     },
     "execution_count": 4,
     "metadata": {},
     "output_type": "execute_result"
    }
   ],
   "source": [
    "customers_df = pd.read_csv('Customers.csv', index_col='CustomerKey', encoding = 'unicode_escape')\n",
    "customers_df.tail(5)"
   ]
  },
  {
   "cell_type": "markdown",
   "id": "ec17a375",
   "metadata": {},
   "source": [
    "- 10 columns:CustomerKey, Gender, Name, City, State Code, State, Zip Code, Country, Continenet and Birthday."
   ]
  },
  {
   "cell_type": "code",
   "execution_count": 5,
   "id": "f3de7f13",
   "metadata": {},
   "outputs": [
    {
     "name": "stdout",
     "output_type": "stream",
     "text": [
      "<class 'pandas.core.frame.DataFrame'>\n",
      "Int64Index: 15266 entries, 301 to 2099937\n",
      "Data columns (total 9 columns):\n",
      " #   Column      Non-Null Count  Dtype \n",
      "---  ------      --------------  ----- \n",
      " 0   Gender      15266 non-null  object\n",
      " 1   Name        15266 non-null  object\n",
      " 2   City        15266 non-null  object\n",
      " 3   State Code  15256 non-null  object\n",
      " 4   State       15266 non-null  object\n",
      " 5   Zip Code    15266 non-null  object\n",
      " 6   Country     15266 non-null  object\n",
      " 7   Continent   15266 non-null  object\n",
      " 8   Birthday    15266 non-null  object\n",
      "dtypes: object(9)\n",
      "memory usage: 1.2+ MB\n"
     ]
    }
   ],
   "source": [
    "customers_df.info()"
   ]
  },
  {
   "cell_type": "markdown",
   "id": "4272f8f7",
   "metadata": {},
   "source": [
    "- 15266"
   ]
  },
  {
   "cell_type": "code",
   "execution_count": null,
   "id": "60e0077a",
   "metadata": {},
   "outputs": [],
   "source": []
  }
 ],
 "metadata": {
  "kernelspec": {
   "display_name": "PythonData",
   "language": "python",
   "name": "pythondata"
  },
  "language_info": {
   "codemirror_mode": {
    "name": "ipython",
    "version": 3
   },
   "file_extension": ".py",
   "mimetype": "text/x-python",
   "name": "python",
   "nbconvert_exporter": "python",
   "pygments_lexer": "ipython3",
   "version": "3.7.13"
  }
 },
 "nbformat": 4,
 "nbformat_minor": 5
}

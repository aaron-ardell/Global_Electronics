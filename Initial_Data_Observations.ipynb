{
 "cells": [
  {
   "cell_type": "code",
   "execution_count": 187,
   "id": "66f204fa",
   "metadata": {},
   "outputs": [],
   "source": [
    "# Importing modules.\n",
    "import pandas as pd"
   ]
  },
  {
   "cell_type": "markdown",
   "id": "016ff860",
   "metadata": {},
   "source": [
    "## Customer's Table"
   ]
  },
  {
   "cell_type": "code",
   "execution_count": 188,
   "id": "ce096d37",
   "metadata": {},
   "outputs": [
    {
     "data": {
      "text/html": [
       "<div>\n",
       "<style scoped>\n",
       "    .dataframe tbody tr th:only-of-type {\n",
       "        vertical-align: middle;\n",
       "    }\n",
       "\n",
       "    .dataframe tbody tr th {\n",
       "        vertical-align: top;\n",
       "    }\n",
       "\n",
       "    .dataframe thead th {\n",
       "        text-align: right;\n",
       "    }\n",
       "</style>\n",
       "<table border=\"1\" class=\"dataframe\">\n",
       "  <thead>\n",
       "    <tr style=\"text-align: right;\">\n",
       "      <th></th>\n",
       "      <th>Gender</th>\n",
       "      <th>Name</th>\n",
       "      <th>City</th>\n",
       "      <th>State Code</th>\n",
       "      <th>State</th>\n",
       "      <th>Zip Code</th>\n",
       "      <th>Country</th>\n",
       "      <th>Continent</th>\n",
       "      <th>Birthday</th>\n",
       "    </tr>\n",
       "    <tr>\n",
       "      <th>CustomerKey</th>\n",
       "      <th></th>\n",
       "      <th></th>\n",
       "      <th></th>\n",
       "      <th></th>\n",
       "      <th></th>\n",
       "      <th></th>\n",
       "      <th></th>\n",
       "      <th></th>\n",
       "      <th></th>\n",
       "    </tr>\n",
       "  </thead>\n",
       "  <tbody>\n",
       "    <tr>\n",
       "      <th>2099600</th>\n",
       "      <td>Female</td>\n",
       "      <td>Denisa Duková</td>\n",
       "      <td>Houston</td>\n",
       "      <td>TX</td>\n",
       "      <td>Texas</td>\n",
       "      <td>77017</td>\n",
       "      <td>United States</td>\n",
       "      <td>North America</td>\n",
       "      <td>3/25/1936</td>\n",
       "    </tr>\n",
       "    <tr>\n",
       "      <th>2099618</th>\n",
       "      <td>Male</td>\n",
       "      <td>Justin Solórzano</td>\n",
       "      <td>Mclean</td>\n",
       "      <td>VA</td>\n",
       "      <td>Virginia</td>\n",
       "      <td>22101</td>\n",
       "      <td>United States</td>\n",
       "      <td>North America</td>\n",
       "      <td>2/16/1992</td>\n",
       "    </tr>\n",
       "    <tr>\n",
       "      <th>2099758</th>\n",
       "      <td>Male</td>\n",
       "      <td>Svend Petrussen</td>\n",
       "      <td>Wilmington</td>\n",
       "      <td>NC</td>\n",
       "      <td>North Carolina</td>\n",
       "      <td>28405</td>\n",
       "      <td>United States</td>\n",
       "      <td>North America</td>\n",
       "      <td>11/9/1937</td>\n",
       "    </tr>\n",
       "    <tr>\n",
       "      <th>2099862</th>\n",
       "      <td>Female</td>\n",
       "      <td>Lorenza Rush</td>\n",
       "      <td>Riverside</td>\n",
       "      <td>CA</td>\n",
       "      <td>California</td>\n",
       "      <td>92501</td>\n",
       "      <td>United States</td>\n",
       "      <td>North America</td>\n",
       "      <td>10/12/1937</td>\n",
       "    </tr>\n",
       "    <tr>\n",
       "      <th>2099937</th>\n",
       "      <td>Male</td>\n",
       "      <td>Zygmunt Kaminski</td>\n",
       "      <td>Bloomfield Township</td>\n",
       "      <td>MI</td>\n",
       "      <td>Michigan</td>\n",
       "      <td>48302</td>\n",
       "      <td>United States</td>\n",
       "      <td>North America</td>\n",
       "      <td>8/18/1965</td>\n",
       "    </tr>\n",
       "  </tbody>\n",
       "</table>\n",
       "</div>"
      ],
      "text/plain": [
       "             Gender              Name                 City State Code  \\\n",
       "CustomerKey                                                             \n",
       "2099600      Female    Denisa Duková              Houston         TX   \n",
       "2099618        Male  Justin Solórzano               Mclean         VA   \n",
       "2099758        Male   Svend Petrussen           Wilmington         NC   \n",
       "2099862      Female      Lorenza Rush            Riverside         CA   \n",
       "2099937        Male  Zygmunt Kaminski  Bloomfield Township         MI   \n",
       "\n",
       "                      State Zip Code        Country      Continent    Birthday  \n",
       "CustomerKey                                                                     \n",
       "2099600               Texas    77017  United States  North America   3/25/1936  \n",
       "2099618            Virginia    22101  United States  North America   2/16/1992  \n",
       "2099758      North Carolina    28405  United States  North America   11/9/1937  \n",
       "2099862          California    92501  United States  North America  10/12/1937  \n",
       "2099937            Michigan    48302  United States  North America   8/18/1965  "
      ]
     },
     "execution_count": 188,
     "metadata": {},
     "output_type": "execute_result"
    }
   ],
   "source": [
    "# Loading the 'Customers' csv into Dataframe.\n",
    "customers_df = pd.read_csv('Customers.csv', index_col='CustomerKey', encoding = 'unicode_escape')\n",
    "customers_df.tail(5)"
   ]
  },
  {
   "cell_type": "code",
   "execution_count": 189,
   "id": "d8bb075e",
   "metadata": {},
   "outputs": [
    {
     "name": "stdout",
     "output_type": "stream",
     "text": [
      "<class 'pandas.core.frame.DataFrame'>\n",
      "Int64Index: 15266 entries, 301 to 2099937\n",
      "Data columns (total 9 columns):\n",
      " #   Column      Non-Null Count  Dtype \n",
      "---  ------      --------------  ----- \n",
      " 0   Gender      15266 non-null  object\n",
      " 1   Name        15266 non-null  object\n",
      " 2   City        15266 non-null  object\n",
      " 3   State Code  15256 non-null  object\n",
      " 4   State       15266 non-null  object\n",
      " 5   Zip Code    15266 non-null  object\n",
      " 6   Country     15266 non-null  object\n",
      " 7   Continent   15266 non-null  object\n",
      " 8   Birthday    15266 non-null  object\n",
      "dtypes: object(9)\n",
      "memory usage: 1.2+ MB\n"
     ]
    }
   ],
   "source": [
    "# Reviewing Dataframe.\n",
    "customers_df.info()"
   ]
  },
  {
   "cell_type": "markdown",
   "id": "b1768cb8",
   "metadata": {},
   "source": [
    "- 10 columns:CustomerKey, Gender, Name, City, State Code, State, Zip Code, Country, Continenet and Birthday."
   ]
  },
  {
   "cell_type": "markdown",
   "id": "696d18c9",
   "metadata": {},
   "source": [
    "- 15266 entries.\n",
    "- No null entries\n",
    "- All columns are listed as object, upon observing data that does not seem to be correct."
   ]
  },
  {
   "cell_type": "code",
   "execution_count": 190,
   "id": "68fdb4e4",
   "metadata": {},
   "outputs": [
    {
     "data": {
      "text/plain": [
       "0"
      ]
     },
     "execution_count": 190,
     "metadata": {},
     "output_type": "execute_result"
    }
   ],
   "source": [
    "# Checking for duplicate values.\n",
    "customers_df.duplicated().sum()"
   ]
  },
  {
   "cell_type": "markdown",
   "id": "e840e733",
   "metadata": {},
   "source": [
    "- No duplicated entries."
   ]
  },
  {
   "cell_type": "code",
   "execution_count": 191,
   "id": "0aaa2aba",
   "metadata": {},
   "outputs": [
    {
     "data": {
      "text/plain": [
       "Gender            2\n",
       "Name          15118\n",
       "City           8258\n",
       "State Code      467\n",
       "State           512\n",
       "Zip Code       9505\n",
       "Country           8\n",
       "Continent         3\n",
       "Birthday      11270\n",
       "dtype: int64"
      ]
     },
     "execution_count": 191,
     "metadata": {},
     "output_type": "execute_result"
    }
   ],
   "source": [
    "# Checking unique values for Category candidates. \n",
    "customers_df.nunique()"
   ]
  },
  {
   "cell_type": "markdown",
   "id": "da67c7af",
   "metadata": {},
   "source": [
    "- Gender, Country and Continent potential category columns."
   ]
  },
  {
   "cell_type": "code",
   "execution_count": 192,
   "id": "0f71bf74",
   "metadata": {},
   "outputs": [
    {
     "name": "stdout",
     "output_type": "stream",
     "text": [
      "<class 'pandas.core.frame.DataFrame'>\n",
      "Int64Index: 15266 entries, 301 to 2099937\n",
      "Data columns (total 9 columns):\n",
      " #   Column      Non-Null Count  Dtype \n",
      "---  ------      --------------  ----- \n",
      " 0   Gender      15266 non-null  object\n",
      " 1   Name        15266 non-null  object\n",
      " 2   City        15266 non-null  object\n",
      " 3   State Code  15256 non-null  object\n",
      " 4   State       15266 non-null  object\n",
      " 5   Zip Code    15266 non-null  object\n",
      " 6   Country     15266 non-null  object\n",
      " 7   Continent   15266 non-null  object\n",
      " 8   Birthday    15266 non-null  object\n",
      "dtypes: object(9)\n",
      "memory usage: 8.8 MB\n"
     ]
    }
   ],
   "source": [
    "# Checking memory usage.\n",
    "customers_df.info(memory_usage='deep')"
   ]
  },
  {
   "cell_type": "markdown",
   "id": "83dd5321",
   "metadata": {},
   "source": [
    "- 8.8 MB of memory."
   ]
  },
  {
   "cell_type": "code",
   "execution_count": 193,
   "id": "41152fd5",
   "metadata": {},
   "outputs": [
    {
     "data": {
      "text/plain": [
       "array(['Female', 'Male'], dtype=object)"
      ]
     },
     "execution_count": 193,
     "metadata": {},
     "output_type": "execute_result"
    }
   ],
   "source": [
    "# Categorizing Gender Column.\n",
    "customers_df['Gender'].unique()"
   ]
  },
  {
   "cell_type": "markdown",
   "id": "d0e0387d",
   "metadata": {},
   "source": [
    "- Only two gender options."
   ]
  },
  {
   "cell_type": "code",
   "execution_count": 194,
   "id": "616b68bb",
   "metadata": {},
   "outputs": [],
   "source": [
    "customers_df['Gender'] = pd.Categorical(\n",
    "    values = customers_df['Gender'], \n",
    "    categories = ['Female', 'Male'],\n",
    "    ordered = True\n",
    ")"
   ]
  },
  {
   "cell_type": "code",
   "execution_count": 195,
   "id": "8b781fed",
   "metadata": {},
   "outputs": [
    {
     "data": {
      "text/plain": [
       "array(['Australia', 'Canada', 'Germany', 'France', 'Italy', 'Netherlands',\n",
       "       'United Kingdom', 'United States'], dtype=object)"
      ]
     },
     "execution_count": 195,
     "metadata": {},
     "output_type": "execute_result"
    }
   ],
   "source": [
    "# Categorizing Country Column.\n",
    "customers_df['Country'].unique()"
   ]
  },
  {
   "cell_type": "markdown",
   "id": "6a36e298",
   "metadata": {},
   "source": [
    "- Eight(8) different countries in the data: Australia, Canada, Germany, France, Italey, Netherlands, United Kingdom and United States."
   ]
  },
  {
   "cell_type": "code",
   "execution_count": 196,
   "id": "8c15f142",
   "metadata": {},
   "outputs": [],
   "source": [
    "customers_df['Country'] = pd.Categorical(\n",
    "    values = customers_df['Country'],\n",
    "    categories = ['Australia', 'Canada', 'Germany', 'France', 'Italy', 'Netherlands',\n",
    "       'United Kingdom', 'United States'],\n",
    "    ordered = True\n",
    ")"
   ]
  },
  {
   "cell_type": "code",
   "execution_count": 197,
   "id": "742c3fd4",
   "metadata": {},
   "outputs": [
    {
     "data": {
      "text/plain": [
       "array(['Australia', 'North America', 'Europe'], dtype=object)"
      ]
     },
     "execution_count": 197,
     "metadata": {},
     "output_type": "execute_result"
    }
   ],
   "source": [
    "# Categorizing Continent Column.\n",
    "customers_df['Continent'].unique()"
   ]
  },
  {
   "cell_type": "markdown",
   "id": "56d1211b",
   "metadata": {},
   "source": [
    "- Three(3) different continents in the data: Australia, North America and Europe."
   ]
  },
  {
   "cell_type": "code",
   "execution_count": 198,
   "id": "6b09a430",
   "metadata": {},
   "outputs": [],
   "source": [
    "customers_df['Continent'] = pd.Categorical(\n",
    "    values = customers_df['Continent'],\n",
    "    categories = ['Australia', 'North America', 'Europe'],\n",
    "    ordered = True\n",
    ")"
   ]
  },
  {
   "cell_type": "code",
   "execution_count": 199,
   "id": "3b564b37",
   "metadata": {},
   "outputs": [
    {
     "name": "stdout",
     "output_type": "stream",
     "text": [
      "<class 'pandas.core.frame.DataFrame'>\n",
      "Int64Index: 15266 entries, 301 to 2099937\n",
      "Data columns (total 9 columns):\n",
      " #   Column      Non-Null Count  Dtype   \n",
      "---  ------      --------------  -----   \n",
      " 0   Gender      15266 non-null  category\n",
      " 1   Name        15266 non-null  object  \n",
      " 2   City        15266 non-null  object  \n",
      " 3   State Code  15256 non-null  object  \n",
      " 4   State       15266 non-null  object  \n",
      " 5   Zip Code    15266 non-null  object  \n",
      " 6   Country     15266 non-null  category\n",
      " 7   Continent   15266 non-null  category\n",
      " 8   Birthday    15266 non-null  object  \n",
      "dtypes: category(3), object(6)\n",
      "memory usage: 5.9 MB\n"
     ]
    }
   ],
   "source": [
    "# Checking progress on memory usage.\n",
    "customers_df.info(memory_usage='deep')"
   ]
  },
  {
   "cell_type": "markdown",
   "id": "c0eb3e2a",
   "metadata": {},
   "source": [
    "- 5.9 MB of memory usage. "
   ]
  },
  {
   "cell_type": "code",
   "execution_count": 228,
   "id": "5cc3c71b",
   "metadata": {
    "scrolled": true
   },
   "outputs": [],
   "source": [
    "# Checking to see if Zip Code column needs to be changed to int data type.\n",
    "# customers_df.astype({'Zip Code': 'int64'}).dtypes"
   ]
  },
  {
   "cell_type": "markdown",
   "id": "258adb9a",
   "metadata": {},
   "source": [
    "- Canada, Netherlands and United Kingdom utilize alpha-numeric zipcodes, this column must remain in the object data type."
   ]
  },
  {
   "cell_type": "code",
   "execution_count": 201,
   "id": "d6223a06",
   "metadata": {},
   "outputs": [
    {
     "data": {
      "text/plain": [
       "Gender              category\n",
       "Name                  object\n",
       "City                  object\n",
       "State Code            object\n",
       "State                 object\n",
       "Zip Code              object\n",
       "Country             category\n",
       "Continent           category\n",
       "Birthday      datetime64[ns]\n",
       "dtype: object"
      ]
     },
     "execution_count": 201,
     "metadata": {},
     "output_type": "execute_result"
    }
   ],
   "source": [
    "# Changing Birthday Column to date time data type.\n",
    "customers_df.astype({'Birthday': 'datetime64'}).dtypes"
   ]
  },
  {
   "cell_type": "code",
   "execution_count": 202,
   "id": "a31f45ca",
   "metadata": {},
   "outputs": [
    {
     "data": {
      "text/html": [
       "<div>\n",
       "<style scoped>\n",
       "    .dataframe tbody tr th:only-of-type {\n",
       "        vertical-align: middle;\n",
       "    }\n",
       "\n",
       "    .dataframe tbody tr th {\n",
       "        vertical-align: top;\n",
       "    }\n",
       "\n",
       "    .dataframe thead th {\n",
       "        text-align: right;\n",
       "    }\n",
       "</style>\n",
       "<table border=\"1\" class=\"dataframe\">\n",
       "  <thead>\n",
       "    <tr style=\"text-align: right;\">\n",
       "      <th></th>\n",
       "      <th>Gender</th>\n",
       "      <th>Name</th>\n",
       "      <th>City</th>\n",
       "      <th>State Code</th>\n",
       "      <th>State</th>\n",
       "      <th>Zip Code</th>\n",
       "      <th>Country</th>\n",
       "      <th>Continent</th>\n",
       "      <th>Birthday</th>\n",
       "    </tr>\n",
       "    <tr>\n",
       "      <th>CustomerKey</th>\n",
       "      <th></th>\n",
       "      <th></th>\n",
       "      <th></th>\n",
       "      <th></th>\n",
       "      <th></th>\n",
       "      <th></th>\n",
       "      <th></th>\n",
       "      <th></th>\n",
       "      <th></th>\n",
       "    </tr>\n",
       "  </thead>\n",
       "  <tbody>\n",
       "    <tr>\n",
       "      <th>301</th>\n",
       "      <td>Female</td>\n",
       "      <td>Lilly Harding</td>\n",
       "      <td>WANDEARAH EAST</td>\n",
       "      <td>SA</td>\n",
       "      <td>South Australia</td>\n",
       "      <td>5523</td>\n",
       "      <td>Australia</td>\n",
       "      <td>Australia</td>\n",
       "      <td>7/3/1939</td>\n",
       "    </tr>\n",
       "    <tr>\n",
       "      <th>325</th>\n",
       "      <td>Female</td>\n",
       "      <td>Madison Hull</td>\n",
       "      <td>MOUNT BUDD</td>\n",
       "      <td>WA</td>\n",
       "      <td>Western Australia</td>\n",
       "      <td>6522</td>\n",
       "      <td>Australia</td>\n",
       "      <td>Australia</td>\n",
       "      <td>9/27/1979</td>\n",
       "    </tr>\n",
       "    <tr>\n",
       "      <th>554</th>\n",
       "      <td>Female</td>\n",
       "      <td>Claire Ferres</td>\n",
       "      <td>WINJALLOK</td>\n",
       "      <td>VIC</td>\n",
       "      <td>Victoria</td>\n",
       "      <td>3380</td>\n",
       "      <td>Australia</td>\n",
       "      <td>Australia</td>\n",
       "      <td>5/26/1947</td>\n",
       "    </tr>\n",
       "    <tr>\n",
       "      <th>786</th>\n",
       "      <td>Male</td>\n",
       "      <td>Jai Poltpalingada</td>\n",
       "      <td>MIDDLE RIVER</td>\n",
       "      <td>SA</td>\n",
       "      <td>South Australia</td>\n",
       "      <td>5223</td>\n",
       "      <td>Australia</td>\n",
       "      <td>Australia</td>\n",
       "      <td>9/17/1957</td>\n",
       "    </tr>\n",
       "    <tr>\n",
       "      <th>1042</th>\n",
       "      <td>Male</td>\n",
       "      <td>Aidan Pankhurst</td>\n",
       "      <td>TAWONGA SOUTH</td>\n",
       "      <td>VIC</td>\n",
       "      <td>Victoria</td>\n",
       "      <td>3698</td>\n",
       "      <td>Australia</td>\n",
       "      <td>Australia</td>\n",
       "      <td>11/19/1965</td>\n",
       "    </tr>\n",
       "  </tbody>\n",
       "</table>\n",
       "</div>"
      ],
      "text/plain": [
       "             Gender               Name            City State Code  \\\n",
       "CustomerKey                                                         \n",
       "301          Female      Lilly Harding  WANDEARAH EAST         SA   \n",
       "325          Female       Madison Hull      MOUNT BUDD         WA   \n",
       "554          Female      Claire Ferres       WINJALLOK        VIC   \n",
       "786            Male  Jai Poltpalingada    MIDDLE RIVER         SA   \n",
       "1042           Male    Aidan Pankhurst   TAWONGA SOUTH        VIC   \n",
       "\n",
       "                         State Zip Code    Country  Continent    Birthday  \n",
       "CustomerKey                                                                \n",
       "301            South Australia     5523  Australia  Australia    7/3/1939  \n",
       "325          Western Australia     6522  Australia  Australia   9/27/1979  \n",
       "554                   Victoria     3380  Australia  Australia   5/26/1947  \n",
       "786            South Australia     5223  Australia  Australia   9/17/1957  \n",
       "1042                  Victoria     3698  Australia  Australia  11/19/1965  "
      ]
     },
     "execution_count": 202,
     "metadata": {},
     "output_type": "execute_result"
    }
   ],
   "source": [
    "# Final view of dataframe.\n",
    "customers_df.head()"
   ]
  },
  {
   "cell_type": "code",
   "execution_count": 229,
   "id": "eac48d01",
   "metadata": {},
   "outputs": [],
   "source": [
    "# Exporting the new data table.\n",
    "# customers_df.to_csv('customers_df')"
   ]
  },
  {
   "cell_type": "markdown",
   "id": "43b8b710",
   "metadata": {},
   "source": [
    "## Products Table"
   ]
  },
  {
   "cell_type": "code",
   "execution_count": 204,
   "id": "8c21f69e",
   "metadata": {},
   "outputs": [
    {
     "data": {
      "text/html": [
       "<div>\n",
       "<style scoped>\n",
       "    .dataframe tbody tr th:only-of-type {\n",
       "        vertical-align: middle;\n",
       "    }\n",
       "\n",
       "    .dataframe tbody tr th {\n",
       "        vertical-align: top;\n",
       "    }\n",
       "\n",
       "    .dataframe thead th {\n",
       "        text-align: right;\n",
       "    }\n",
       "</style>\n",
       "<table border=\"1\" class=\"dataframe\">\n",
       "  <thead>\n",
       "    <tr style=\"text-align: right;\">\n",
       "      <th></th>\n",
       "      <th>Product Name</th>\n",
       "      <th>Brand</th>\n",
       "      <th>Color</th>\n",
       "      <th>Unit Cost USD</th>\n",
       "      <th>Unit Price USD</th>\n",
       "      <th>SubcategoryKey</th>\n",
       "      <th>Subcategory</th>\n",
       "      <th>CategoryKey</th>\n",
       "      <th>Category</th>\n",
       "    </tr>\n",
       "    <tr>\n",
       "      <th>ProductKey</th>\n",
       "      <th></th>\n",
       "      <th></th>\n",
       "      <th></th>\n",
       "      <th></th>\n",
       "      <th></th>\n",
       "      <th></th>\n",
       "      <th></th>\n",
       "      <th></th>\n",
       "      <th></th>\n",
       "    </tr>\n",
       "  </thead>\n",
       "  <tbody>\n",
       "    <tr>\n",
       "      <th>2513</th>\n",
       "      <td>Contoso Bluetooth Active Headphones L15 Red</td>\n",
       "      <td>Contoso</td>\n",
       "      <td>Red</td>\n",
       "      <td>$43.07</td>\n",
       "      <td>$129.99</td>\n",
       "      <td>505</td>\n",
       "      <td>Cell phones Accessories</td>\n",
       "      <td>5</td>\n",
       "      <td>Cell phones</td>\n",
       "    </tr>\n",
       "    <tr>\n",
       "      <th>2514</th>\n",
       "      <td>Contoso Bluetooth Active Headphones L15 White</td>\n",
       "      <td>Contoso</td>\n",
       "      <td>White</td>\n",
       "      <td>$43.07</td>\n",
       "      <td>$129.99</td>\n",
       "      <td>505</td>\n",
       "      <td>Cell phones Accessories</td>\n",
       "      <td>5</td>\n",
       "      <td>Cell phones</td>\n",
       "    </tr>\n",
       "    <tr>\n",
       "      <th>2515</th>\n",
       "      <td>Contoso In-Line Coupler E180 White</td>\n",
       "      <td>Contoso</td>\n",
       "      <td>White</td>\n",
       "      <td>$1.71</td>\n",
       "      <td>$3.35</td>\n",
       "      <td>505</td>\n",
       "      <td>Cell phones Accessories</td>\n",
       "      <td>5</td>\n",
       "      <td>Cell phones</td>\n",
       "    </tr>\n",
       "    <tr>\n",
       "      <th>2516</th>\n",
       "      <td>Contoso In-Line Coupler E180 Black</td>\n",
       "      <td>Contoso</td>\n",
       "      <td>Black</td>\n",
       "      <td>$1.71</td>\n",
       "      <td>$3.35</td>\n",
       "      <td>505</td>\n",
       "      <td>Cell phones Accessories</td>\n",
       "      <td>5</td>\n",
       "      <td>Cell phones</td>\n",
       "    </tr>\n",
       "    <tr>\n",
       "      <th>2517</th>\n",
       "      <td>Contoso In-Line Coupler E180 Silver</td>\n",
       "      <td>Contoso</td>\n",
       "      <td>Silver</td>\n",
       "      <td>$1.71</td>\n",
       "      <td>$3.35</td>\n",
       "      <td>505</td>\n",
       "      <td>Cell phones Accessories</td>\n",
       "      <td>5</td>\n",
       "      <td>Cell phones</td>\n",
       "    </tr>\n",
       "  </tbody>\n",
       "</table>\n",
       "</div>"
      ],
      "text/plain": [
       "                                             Product Name    Brand   Color  \\\n",
       "ProductKey                                                                   \n",
       "2513          Contoso Bluetooth Active Headphones L15 Red  Contoso     Red   \n",
       "2514        Contoso Bluetooth Active Headphones L15 White  Contoso   White   \n",
       "2515                   Contoso In-Line Coupler E180 White  Contoso   White   \n",
       "2516                   Contoso In-Line Coupler E180 Black  Contoso   Black   \n",
       "2517                  Contoso In-Line Coupler E180 Silver  Contoso  Silver   \n",
       "\n",
       "           Unit Cost USD Unit Price USD  SubcategoryKey  \\\n",
       "ProductKey                                                \n",
       "2513             $43.07        $129.99              505   \n",
       "2514             $43.07        $129.99              505   \n",
       "2515              $1.71          $3.35              505   \n",
       "2516              $1.71          $3.35              505   \n",
       "2517              $1.71          $3.35              505   \n",
       "\n",
       "                        Subcategory  CategoryKey     Category  \n",
       "ProductKey                                                     \n",
       "2513        Cell phones Accessories            5  Cell phones  \n",
       "2514        Cell phones Accessories            5  Cell phones  \n",
       "2515        Cell phones Accessories            5  Cell phones  \n",
       "2516        Cell phones Accessories            5  Cell phones  \n",
       "2517        Cell phones Accessories            5  Cell phones  "
      ]
     },
     "execution_count": 204,
     "metadata": {},
     "output_type": "execute_result"
    }
   ],
   "source": [
    "# Loading the Dataframe for 'Products'.\n",
    "products_df = pd.read_csv('Products.csv', index_col='ProductKey', encoding = 'unicode_escape')\n",
    "products_df.tail(5)"
   ]
  },
  {
   "cell_type": "code",
   "execution_count": 205,
   "id": "f65b5683",
   "metadata": {},
   "outputs": [
    {
     "name": "stdout",
     "output_type": "stream",
     "text": [
      "<class 'pandas.core.frame.DataFrame'>\n",
      "Int64Index: 2517 entries, 1 to 2517\n",
      "Data columns (total 9 columns):\n",
      " #   Column          Non-Null Count  Dtype \n",
      "---  ------          --------------  ----- \n",
      " 0   Product Name    2517 non-null   object\n",
      " 1   Brand           2517 non-null   object\n",
      " 2   Color           2517 non-null   object\n",
      " 3   Unit Cost USD   2517 non-null   object\n",
      " 4   Unit Price USD  2517 non-null   object\n",
      " 5   SubcategoryKey  2517 non-null   int64 \n",
      " 6   Subcategory     2517 non-null   object\n",
      " 7   CategoryKey     2517 non-null   int64 \n",
      " 8   Category        2517 non-null   object\n",
      "dtypes: int64(2), object(7)\n",
      "memory usage: 1.3 MB\n"
     ]
    }
   ],
   "source": [
    "# Reviewing the Dataframe.\n",
    "products_df.info(memory_usage ='deep')"
   ]
  },
  {
   "cell_type": "markdown",
   "id": "4030cdde",
   "metadata": {},
   "source": [
    "- Dataframe Keys: Product Name, Brand, Color, Unit Cost USD, Unit Price USD, SubcategoryKey, Subcategory, CategoryKey and Category.\n",
    "- 2517 entries.\n",
    "- No null values.\n",
    "- Only running on 196 KB, relatively small.\n",
    "- Keys 3 and 4 are prices, candidates for float data type for quantitative analysis.\n",
    "- Keys 5, 6, 7 and 8 candidates for Categorical data types. "
   ]
  },
  {
   "cell_type": "code",
   "execution_count": 206,
   "id": "d9592c8f",
   "metadata": {},
   "outputs": [
    {
     "data": {
      "text/plain": [
       "Product Name      2517\n",
       "Brand               11\n",
       "Color               16\n",
       "Unit Cost USD      480\n",
       "Unit Price USD     426\n",
       "SubcategoryKey      32\n",
       "Subcategory         32\n",
       "CategoryKey          8\n",
       "Category             8\n",
       "dtype: int64"
      ]
     },
     "execution_count": 206,
     "metadata": {},
     "output_type": "execute_result"
    }
   ],
   "source": [
    "# Unique value totals.\n",
    "products_df.nunique()"
   ]
  },
  {
   "cell_type": "markdown",
   "id": "fc517636",
   "metadata": {},
   "source": [
    "- Turns out Category/Subcategory keys are best candidates for Categorical data type."
   ]
  },
  {
   "cell_type": "code",
   "execution_count": 207,
   "id": "8ecd83d1",
   "metadata": {},
   "outputs": [
    {
     "data": {
      "text/plain": [
       "0"
      ]
     },
     "execution_count": 207,
     "metadata": {},
     "output_type": "execute_result"
    }
   ],
   "source": [
    "# Checking for duplicated entries.\n",
    "products_df.duplicated().sum()"
   ]
  },
  {
   "cell_type": "code",
   "execution_count": 208,
   "id": "0895e930",
   "metadata": {},
   "outputs": [
    {
     "name": "stdout",
     "output_type": "stream",
     "text": [
      "<class 'pandas.core.frame.DataFrame'>\n",
      "Int64Index: 2517 entries, 1 to 2517\n",
      "Data columns (total 9 columns):\n",
      " #   Column          Non-Null Count  Dtype \n",
      "---  ------          --------------  ----- \n",
      " 0   Product Name    2517 non-null   object\n",
      " 1   Brand           2517 non-null   object\n",
      " 2   Color           2517 non-null   object\n",
      " 3   Unit Cost USD   2517 non-null   object\n",
      " 4   Unit Price USD  2517 non-null   object\n",
      " 5   SubcategoryKey  2517 non-null   int64 \n",
      " 6   Subcategory     2517 non-null   object\n",
      " 7   CategoryKey     2517 non-null   int64 \n",
      " 8   Category        2517 non-null   object\n",
      "dtypes: int64(2), object(7)\n",
      "memory usage: 1.3 MB\n"
     ]
    }
   ],
   "source": [
    "# Checking memory usage.\n",
    "products_df.info(memory_usage='deep')"
   ]
  },
  {
   "cell_type": "code",
   "execution_count": 209,
   "id": "c70f74ee",
   "metadata": {},
   "outputs": [
    {
     "data": {
      "text/plain": [
       "array(['Audio', 'TV and Video', 'Computers', 'Cameras and camcorders',\n",
       "       'Cell phones', 'Music, Movies and Audio Books', 'Games and Toys',\n",
       "       'Home Appliances'], dtype=object)"
      ]
     },
     "execution_count": 209,
     "metadata": {},
     "output_type": "execute_result"
    }
   ],
   "source": [
    "# Chanwging CategoryKey and Category into Categorical data types.\n",
    "products_df['Category'].unique()"
   ]
  },
  {
   "cell_type": "code",
   "execution_count": 210,
   "id": "9dd6c428",
   "metadata": {},
   "outputs": [],
   "source": [
    "products_df['Category'] = pd.Categorical(\n",
    "    values = products_df['Category'],\n",
    "    categories = ['Audio', 'TV and Video', 'Computers', 'Cameras and camcorders',\n",
    "       'Cell phones', 'Music, Movies and Audio Books', 'Games and Toys',\n",
    "       'Home Appliances'],\n",
    "    ordered = True\n",
    ")"
   ]
  },
  {
   "cell_type": "code",
   "execution_count": 211,
   "id": "fb231b54",
   "metadata": {},
   "outputs": [
    {
     "data": {
      "text/plain": [
       "array([1, 2, 3, 4, 5, 6, 7, 8], dtype=int64)"
      ]
     },
     "execution_count": 211,
     "metadata": {},
     "output_type": "execute_result"
    }
   ],
   "source": [
    "products_df['CategoryKey'].unique()"
   ]
  },
  {
   "cell_type": "code",
   "execution_count": 212,
   "id": "64332ae0",
   "metadata": {},
   "outputs": [],
   "source": [
    "products_df['CategoryKey'] = pd.Categorical(\n",
    "    values = products_df['CategoryKey'],\n",
    "    categories = [1, 2, 3, 4, 5, 6, 7, 8],\n",
    "    ordered = True\n",
    ")"
   ]
  },
  {
   "cell_type": "code",
   "execution_count": 213,
   "id": "b7b05e72",
   "metadata": {},
   "outputs": [
    {
     "data": {
      "text/plain": [
       "Product Name        object\n",
       "Brand               object\n",
       "Color               object\n",
       "Unit Cost USD       object\n",
       "Unit Price USD      object\n",
       "SubcategoryKey       int64\n",
       "Subcategory         object\n",
       "CategoryKey       category\n",
       "Category          category\n",
       "dtype: object"
      ]
     },
     "execution_count": 213,
     "metadata": {},
     "output_type": "execute_result"
    }
   ],
   "source": [
    "products_df.dtypes"
   ]
  },
  {
   "cell_type": "code",
   "execution_count": 214,
   "id": "c056ac1b",
   "metadata": {},
   "outputs": [
    {
     "name": "stderr",
     "output_type": "stream",
     "text": [
      "C:\\Users\\aaron\\AppData\\Roaming\\Python\\Python37\\site-packages\\ipykernel_launcher.py:3: FutureWarning: The default value of regex will change from True to False in a future version. In addition, single character regular expressions will *not* be treated as literal strings when regex=True.\n",
      "  This is separate from the ipykernel package so we can avoid doing imports until\n",
      "C:\\Users\\aaron\\AppData\\Roaming\\Python\\Python37\\site-packages\\ipykernel_launcher.py:5: FutureWarning: The default value of regex will change from True to False in a future version. In addition, single character regular expressions will *not* be treated as literal strings when regex=True.\n",
      "  \"\"\"\n"
     ]
    },
    {
     "data": {
      "text/html": [
       "<div>\n",
       "<style scoped>\n",
       "    .dataframe tbody tr th:only-of-type {\n",
       "        vertical-align: middle;\n",
       "    }\n",
       "\n",
       "    .dataframe tbody tr th {\n",
       "        vertical-align: top;\n",
       "    }\n",
       "\n",
       "    .dataframe thead th {\n",
       "        text-align: right;\n",
       "    }\n",
       "</style>\n",
       "<table border=\"1\" class=\"dataframe\">\n",
       "  <thead>\n",
       "    <tr style=\"text-align: right;\">\n",
       "      <th></th>\n",
       "      <th>Product Name</th>\n",
       "      <th>Brand</th>\n",
       "      <th>Color</th>\n",
       "      <th>Unit Cost USD</th>\n",
       "      <th>Unit Price USD</th>\n",
       "      <th>SubcategoryKey</th>\n",
       "      <th>Subcategory</th>\n",
       "      <th>CategoryKey</th>\n",
       "      <th>Category</th>\n",
       "    </tr>\n",
       "    <tr>\n",
       "      <th>ProductKey</th>\n",
       "      <th></th>\n",
       "      <th></th>\n",
       "      <th></th>\n",
       "      <th></th>\n",
       "      <th></th>\n",
       "      <th></th>\n",
       "      <th></th>\n",
       "      <th></th>\n",
       "      <th></th>\n",
       "    </tr>\n",
       "  </thead>\n",
       "  <tbody>\n",
       "    <tr>\n",
       "      <th>1</th>\n",
       "      <td>Contoso 512MB MP3 Player E51 Silver</td>\n",
       "      <td>Contoso</td>\n",
       "      <td>Silver</td>\n",
       "      <td>6.62</td>\n",
       "      <td>12.99</td>\n",
       "      <td>101</td>\n",
       "      <td>MP4&amp;MP3</td>\n",
       "      <td>1</td>\n",
       "      <td>Audio</td>\n",
       "    </tr>\n",
       "    <tr>\n",
       "      <th>2</th>\n",
       "      <td>Contoso 512MB MP3 Player E51 Blue</td>\n",
       "      <td>Contoso</td>\n",
       "      <td>Blue</td>\n",
       "      <td>6.62</td>\n",
       "      <td>12.99</td>\n",
       "      <td>101</td>\n",
       "      <td>MP4&amp;MP3</td>\n",
       "      <td>1</td>\n",
       "      <td>Audio</td>\n",
       "    </tr>\n",
       "    <tr>\n",
       "      <th>3</th>\n",
       "      <td>Contoso 1G MP3 Player E100 White</td>\n",
       "      <td>Contoso</td>\n",
       "      <td>White</td>\n",
       "      <td>7.40</td>\n",
       "      <td>14.52</td>\n",
       "      <td>101</td>\n",
       "      <td>MP4&amp;MP3</td>\n",
       "      <td>1</td>\n",
       "      <td>Audio</td>\n",
       "    </tr>\n",
       "    <tr>\n",
       "      <th>4</th>\n",
       "      <td>Contoso 2G MP3 Player E200 Silver</td>\n",
       "      <td>Contoso</td>\n",
       "      <td>Silver</td>\n",
       "      <td>11.00</td>\n",
       "      <td>21.57</td>\n",
       "      <td>101</td>\n",
       "      <td>MP4&amp;MP3</td>\n",
       "      <td>1</td>\n",
       "      <td>Audio</td>\n",
       "    </tr>\n",
       "    <tr>\n",
       "      <th>5</th>\n",
       "      <td>Contoso 2G MP3 Player E200 Red</td>\n",
       "      <td>Contoso</td>\n",
       "      <td>Red</td>\n",
       "      <td>11.00</td>\n",
       "      <td>21.57</td>\n",
       "      <td>101</td>\n",
       "      <td>MP4&amp;MP3</td>\n",
       "      <td>1</td>\n",
       "      <td>Audio</td>\n",
       "    </tr>\n",
       "  </tbody>\n",
       "</table>\n",
       "</div>"
      ],
      "text/plain": [
       "                                   Product Name    Brand   Color  \\\n",
       "ProductKey                                                         \n",
       "1           Contoso 512MB MP3 Player E51 Silver  Contoso  Silver   \n",
       "2             Contoso 512MB MP3 Player E51 Blue  Contoso    Blue   \n",
       "3              Contoso 1G MP3 Player E100 White  Contoso   White   \n",
       "4             Contoso 2G MP3 Player E200 Silver  Contoso  Silver   \n",
       "5                Contoso 2G MP3 Player E200 Red  Contoso     Red   \n",
       "\n",
       "           Unit Cost USD Unit Price USD  SubcategoryKey Subcategory  \\\n",
       "ProductKey                                                            \n",
       "1                  6.62          12.99              101     MP4&MP3   \n",
       "2                  6.62          12.99              101     MP4&MP3   \n",
       "3                  7.40          14.52              101     MP4&MP3   \n",
       "4                 11.00          21.57              101     MP4&MP3   \n",
       "5                 11.00          21.57              101     MP4&MP3   \n",
       "\n",
       "           CategoryKey Category  \n",
       "ProductKey                       \n",
       "1                    1    Audio  \n",
       "2                    1    Audio  \n",
       "3                    1    Audio  \n",
       "4                    1    Audio  \n",
       "5                    1    Audio  "
      ]
     },
     "execution_count": 214,
     "metadata": {},
     "output_type": "execute_result"
    }
   ],
   "source": [
    "# Converting Unit Cost USD and Unit Price USD to floats for better quantitative calculations.\n",
    "# First step is removing the non-numeric '$' and ',' from the the numbers.\n",
    "products_df['Unit Cost USD'] = products_df['Unit Cost USD'].str.replace('$', '')\n",
    "products_df['Unit Cost USD'] = products_df['Unit Cost USD'].str.replace(',', '')\n",
    "products_df['Unit Price USD'] = products_df['Unit Price USD'].str.replace('$', '')\n",
    "products_df['Unit Price USD'] = products_df['Unit Price USD'].str.replace(',', '')\n",
    "products_df.head()"
   ]
  },
  {
   "cell_type": "code",
   "execution_count": 215,
   "id": "c86e18e2",
   "metadata": {},
   "outputs": [
    {
     "data": {
      "text/plain": [
       "Product Name        object\n",
       "Brand               object\n",
       "Color               object\n",
       "Unit Cost USD      float64\n",
       "Unit Price USD     float64\n",
       "SubcategoryKey       int64\n",
       "Subcategory         object\n",
       "CategoryKey       category\n",
       "Category          category\n",
       "dtype: object"
      ]
     },
     "execution_count": 215,
     "metadata": {},
     "output_type": "execute_result"
    }
   ],
   "source": [
    "# Now that we're dealing with just numbers, changing the data type to float.\n",
    "products_df['Unit Cost USD'] = pd.to_numeric(products_df['Unit Cost USD'])\n",
    "products_df['Unit Price USD'] = pd.to_numeric(products_df['Unit Price USD'])\n",
    "products_df.dtypes"
   ]
  },
  {
   "cell_type": "markdown",
   "id": "a3ee79a0",
   "metadata": {},
   "source": [
    " - Unit Cost USD and Unit Prices USD converted to float64 data type."
   ]
  },
  {
   "cell_type": "code",
   "execution_count": 216,
   "id": "173c29e6",
   "metadata": {},
   "outputs": [],
   "source": [
    "# Exporting the dataframe."
   ]
  },
  {
   "cell_type": "markdown",
   "id": "e90abe3a",
   "metadata": {},
   "source": [
    "## Sales Table"
   ]
  },
  {
   "cell_type": "code",
   "execution_count": 217,
   "id": "2edd337f",
   "metadata": {},
   "outputs": [
    {
     "data": {
      "text/html": [
       "<div>\n",
       "<style scoped>\n",
       "    .dataframe tbody tr th:only-of-type {\n",
       "        vertical-align: middle;\n",
       "    }\n",
       "\n",
       "    .dataframe tbody tr th {\n",
       "        vertical-align: top;\n",
       "    }\n",
       "\n",
       "    .dataframe thead th {\n",
       "        text-align: right;\n",
       "    }\n",
       "</style>\n",
       "<table border=\"1\" class=\"dataframe\">\n",
       "  <thead>\n",
       "    <tr style=\"text-align: right;\">\n",
       "      <th></th>\n",
       "      <th>Order Number</th>\n",
       "      <th>Line Item</th>\n",
       "      <th>Order Date</th>\n",
       "      <th>Delivery Date</th>\n",
       "      <th>CustomerKey</th>\n",
       "      <th>StoreKey</th>\n",
       "      <th>Quantity</th>\n",
       "      <th>Currency Code</th>\n",
       "    </tr>\n",
       "    <tr>\n",
       "      <th>ProductKey</th>\n",
       "      <th></th>\n",
       "      <th></th>\n",
       "      <th></th>\n",
       "      <th></th>\n",
       "      <th></th>\n",
       "      <th></th>\n",
       "      <th></th>\n",
       "      <th></th>\n",
       "    </tr>\n",
       "  </thead>\n",
       "  <tbody>\n",
       "    <tr>\n",
       "      <th>632</th>\n",
       "      <td>2243030</td>\n",
       "      <td>1</td>\n",
       "      <td>2/20/2021</td>\n",
       "      <td>NaN</td>\n",
       "      <td>1216913</td>\n",
       "      <td>43</td>\n",
       "      <td>3</td>\n",
       "      <td>USD</td>\n",
       "    </tr>\n",
       "    <tr>\n",
       "      <th>98</th>\n",
       "      <td>2243031</td>\n",
       "      <td>1</td>\n",
       "      <td>2/20/2021</td>\n",
       "      <td>2/24/2021</td>\n",
       "      <td>511229</td>\n",
       "      <td>0</td>\n",
       "      <td>4</td>\n",
       "      <td>EUR</td>\n",
       "    </tr>\n",
       "    <tr>\n",
       "      <th>1613</th>\n",
       "      <td>2243032</td>\n",
       "      <td>1</td>\n",
       "      <td>2/20/2021</td>\n",
       "      <td>2/23/2021</td>\n",
       "      <td>331277</td>\n",
       "      <td>0</td>\n",
       "      <td>2</td>\n",
       "      <td>CAD</td>\n",
       "    </tr>\n",
       "    <tr>\n",
       "      <th>1717</th>\n",
       "      <td>2243032</td>\n",
       "      <td>2</td>\n",
       "      <td>2/20/2021</td>\n",
       "      <td>2/23/2021</td>\n",
       "      <td>331277</td>\n",
       "      <td>0</td>\n",
       "      <td>2</td>\n",
       "      <td>CAD</td>\n",
       "    </tr>\n",
       "    <tr>\n",
       "      <th>464</th>\n",
       "      <td>2243032</td>\n",
       "      <td>3</td>\n",
       "      <td>2/20/2021</td>\n",
       "      <td>2/23/2021</td>\n",
       "      <td>331277</td>\n",
       "      <td>0</td>\n",
       "      <td>7</td>\n",
       "      <td>CAD</td>\n",
       "    </tr>\n",
       "  </tbody>\n",
       "</table>\n",
       "</div>"
      ],
      "text/plain": [
       "            Order Number  Line Item Order Date Delivery Date  CustomerKey  \\\n",
       "ProductKey                                                                  \n",
       "632              2243030          1  2/20/2021           NaN      1216913   \n",
       "98               2243031          1  2/20/2021     2/24/2021       511229   \n",
       "1613             2243032          1  2/20/2021     2/23/2021       331277   \n",
       "1717             2243032          2  2/20/2021     2/23/2021       331277   \n",
       "464              2243032          3  2/20/2021     2/23/2021       331277   \n",
       "\n",
       "            StoreKey  Quantity Currency Code  \n",
       "ProductKey                                    \n",
       "632               43         3           USD  \n",
       "98                 0         4           EUR  \n",
       "1613               0         2           CAD  \n",
       "1717               0         2           CAD  \n",
       "464                0         7           CAD  "
      ]
     },
     "execution_count": 217,
     "metadata": {},
     "output_type": "execute_result"
    }
   ],
   "source": [
    "# Loading Sales.csv into Dataframe.\n",
    "sales_df = pd.read_csv('Sales.csv', index_col = 'ProductKey')\n",
    "sales_df.tail()"
   ]
  },
  {
   "cell_type": "code",
   "execution_count": 218,
   "id": "a25b8d5d",
   "metadata": {},
   "outputs": [
    {
     "name": "stdout",
     "output_type": "stream",
     "text": [
      "<class 'pandas.core.frame.DataFrame'>\n",
      "Int64Index: 62884 entries, 1304 to 464\n",
      "Data columns (total 8 columns):\n",
      " #   Column         Non-Null Count  Dtype \n",
      "---  ------         --------------  ----- \n",
      " 0   Order Number   62884 non-null  int64 \n",
      " 1   Line Item      62884 non-null  int64 \n",
      " 2   Order Date     62884 non-null  object\n",
      " 3   Delivery Date  13165 non-null  object\n",
      " 4   CustomerKey    62884 non-null  int64 \n",
      " 5   StoreKey       62884 non-null  int64 \n",
      " 6   Quantity       62884 non-null  int64 \n",
      " 7   Currency Code  62884 non-null  object\n",
      "dtypes: int64(5), object(3)\n",
      "memory usage: 12.8 MB\n"
     ]
    }
   ],
   "source": [
    "# Reviewing Dataframe.\n",
    "sales_df.info(memory_usage='deep')"
   ]
  },
  {
   "cell_type": "markdown",
   "id": "06fdc86c",
   "metadata": {},
   "source": [
    "- 8 columns with 62884 entries.\n",
    "- Columns: Order Number, Line Number, Order Date, Delivery Date, CustomerKey, StoreKey, Quantity and Currency Code."
   ]
  },
  {
   "cell_type": "code",
   "execution_count": 219,
   "id": "80789d03",
   "metadata": {},
   "outputs": [
    {
     "data": {
      "text/plain": [
       "0"
      ]
     },
     "execution_count": 219,
     "metadata": {},
     "output_type": "execute_result"
    }
   ],
   "source": [
    "# Checking for duplicated rows.\n",
    "sales_df.duplicated().sum()"
   ]
  },
  {
   "cell_type": "code",
   "execution_count": 220,
   "id": "2ee82d74",
   "metadata": {},
   "outputs": [
    {
     "data": {
      "text/plain": [
       "Order Number     26326\n",
       "Line Item            7\n",
       "Order Date        1641\n",
       "Delivery Date     1492\n",
       "CustomerKey      11887\n",
       "StoreKey            58\n",
       "Quantity            10\n",
       "Currency Code        5\n",
       "dtype: int64"
      ]
     },
     "execution_count": 220,
     "metadata": {},
     "output_type": "execute_result"
    }
   ],
   "source": [
    "# Checking for unique value counts.\n",
    "sales_df.nunique()"
   ]
  },
  {
   "cell_type": "markdown",
   "id": "96597210",
   "metadata": {},
   "source": [
    "- Currency Code candidate for Categorical data type."
   ]
  },
  {
   "cell_type": "code",
   "execution_count": 221,
   "id": "e13d666b",
   "metadata": {},
   "outputs": [
    {
     "data": {
      "text/plain": [
       "array(['CAD', 'USD', 'GBP', 'EUR', 'AUD'], dtype=object)"
      ]
     },
     "execution_count": 221,
     "metadata": {},
     "output_type": "execute_result"
    }
   ],
   "source": [
    "# Converting Currency Code into Categorical data type.\n",
    "sales_df['Currency Code'].unique()"
   ]
  },
  {
   "cell_type": "code",
   "execution_count": 222,
   "id": "68b6bb5e",
   "metadata": {},
   "outputs": [],
   "source": [
    "sales_df['Currency Code'] = pd.Categorical(\n",
    "    values = sales_df['Currency Code'],\n",
    "    categories = ['CAD', 'USD', 'GBP', 'EUR', 'AUD'],\n",
    "    ordered = True\n",
    ")"
   ]
  },
  {
   "cell_type": "code",
   "execution_count": 223,
   "id": "16aa13b2",
   "metadata": {},
   "outputs": [
    {
     "name": "stdout",
     "output_type": "stream",
     "text": [
      "<class 'pandas.core.frame.DataFrame'>\n",
      "Int64Index: 62884 entries, 1304 to 464\n",
      "Data columns (total 8 columns):\n",
      " #   Column         Non-Null Count  Dtype   \n",
      "---  ------         --------------  -----   \n",
      " 0   Order Number   62884 non-null  int64   \n",
      " 1   Line Item      62884 non-null  int64   \n",
      " 2   Order Date     62884 non-null  object  \n",
      " 3   Delivery Date  13165 non-null  object  \n",
      " 4   CustomerKey    62884 non-null  int64   \n",
      " 5   StoreKey       62884 non-null  int64   \n",
      " 6   Quantity       62884 non-null  int64   \n",
      " 7   Currency Code  62884 non-null  category\n",
      "dtypes: category(1), int64(5), object(2)\n",
      "memory usage: 9.2 MB\n"
     ]
    }
   ],
   "source": [
    "sales_df.info(memory_usage='deep')"
   ]
  },
  {
   "cell_type": "markdown",
   "id": "9382b996",
   "metadata": {},
   "source": [
    "- Improved memory usage by 3 MB."
   ]
  },
  {
   "cell_type": "code",
   "execution_count": 224,
   "id": "e79e0a07",
   "metadata": {},
   "outputs": [
    {
     "data": {
      "text/plain": [
       "Order Number              int64\n",
       "Line Item                 int64\n",
       "Order Date               object\n",
       "Delivery Date    datetime64[ns]\n",
       "CustomerKey               int64\n",
       "StoreKey                  int64\n",
       "Quantity                  int64\n",
       "Currency Code          category\n",
       "dtype: object"
      ]
     },
     "execution_count": 224,
     "metadata": {},
     "output_type": "execute_result"
    }
   ],
   "source": [
    "sales_df['Delivery Date'] = pd.to_datetime(sales_df['Delivery Date'])\n",
    "sales_df.dtypes"
   ]
  },
  {
   "cell_type": "code",
   "execution_count": 225,
   "id": "406eb27c",
   "metadata": {},
   "outputs": [],
   "source": [
    "sales_df['Order Date'] = pd.to_datetime(sales_df['Order Date'], errors='ignore')"
   ]
  },
  {
   "cell_type": "code",
   "execution_count": 226,
   "id": "4a98047c",
   "metadata": {},
   "outputs": [
    {
     "data": {
      "text/plain": [
       "Order Number              int64\n",
       "Line Item                 int64\n",
       "Order Date       datetime64[ns]\n",
       "Delivery Date    datetime64[ns]\n",
       "CustomerKey               int64\n",
       "StoreKey                  int64\n",
       "Quantity                  int64\n",
       "Currency Code          category\n",
       "dtype: object"
      ]
     },
     "execution_count": 226,
     "metadata": {},
     "output_type": "execute_result"
    }
   ],
   "source": [
    "sales_df.dtypes"
   ]
  },
  {
   "cell_type": "code",
   "execution_count": 227,
   "id": "83160fa5",
   "metadata": {},
   "outputs": [],
   "source": [
    "# Exporting the Dataframe."
   ]
  }
 ],
 "metadata": {
  "kernelspec": {
   "display_name": "PythonData",
   "language": "python",
   "name": "pythondata"
  },
  "language_info": {
   "codemirror_mode": {
    "name": "ipython",
    "version": 3
   },
   "file_extension": ".py",
   "mimetype": "text/x-python",
   "name": "python",
   "nbconvert_exporter": "python",
   "pygments_lexer": "ipython3",
   "version": "3.7.13"
  }
 },
 "nbformat": 4,
 "nbformat_minor": 5
}

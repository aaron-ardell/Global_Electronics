{
 "cells": [
  {
   "cell_type": "code",
   "execution_count": 250,
   "id": "66f204fa",
   "metadata": {},
   "outputs": [],
   "source": [
    "# Importing modules.\n",
    "import pandas as pd"
   ]
  },
  {
   "cell_type": "markdown",
   "id": "016ff860",
   "metadata": {},
   "source": [
    "# Customer's Table"
   ]
  },
  {
   "cell_type": "code",
   "execution_count": 251,
   "id": "ce096d37",
   "metadata": {},
   "outputs": [
    {
     "data": {
      "text/html": [
       "<div>\n",
       "<style scoped>\n",
       "    .dataframe tbody tr th:only-of-type {\n",
       "        vertical-align: middle;\n",
       "    }\n",
       "\n",
       "    .dataframe tbody tr th {\n",
       "        vertical-align: top;\n",
       "    }\n",
       "\n",
       "    .dataframe thead th {\n",
       "        text-align: right;\n",
       "    }\n",
       "</style>\n",
       "<table border=\"1\" class=\"dataframe\">\n",
       "  <thead>\n",
       "    <tr style=\"text-align: right;\">\n",
       "      <th></th>\n",
       "      <th>Gender</th>\n",
       "      <th>Name</th>\n",
       "      <th>City</th>\n",
       "      <th>State Code</th>\n",
       "      <th>State</th>\n",
       "      <th>Zip Code</th>\n",
       "      <th>Country</th>\n",
       "      <th>Continent</th>\n",
       "      <th>Birthday</th>\n",
       "    </tr>\n",
       "    <tr>\n",
       "      <th>CustomerKey</th>\n",
       "      <th></th>\n",
       "      <th></th>\n",
       "      <th></th>\n",
       "      <th></th>\n",
       "      <th></th>\n",
       "      <th></th>\n",
       "      <th></th>\n",
       "      <th></th>\n",
       "      <th></th>\n",
       "    </tr>\n",
       "  </thead>\n",
       "  <tbody>\n",
       "    <tr>\n",
       "      <th>2099600</th>\n",
       "      <td>Female</td>\n",
       "      <td>Denisa Duková</td>\n",
       "      <td>Houston</td>\n",
       "      <td>TX</td>\n",
       "      <td>Texas</td>\n",
       "      <td>77017</td>\n",
       "      <td>United States</td>\n",
       "      <td>North America</td>\n",
       "      <td>3/25/1936</td>\n",
       "    </tr>\n",
       "    <tr>\n",
       "      <th>2099618</th>\n",
       "      <td>Male</td>\n",
       "      <td>Justin Solórzano</td>\n",
       "      <td>Mclean</td>\n",
       "      <td>VA</td>\n",
       "      <td>Virginia</td>\n",
       "      <td>22101</td>\n",
       "      <td>United States</td>\n",
       "      <td>North America</td>\n",
       "      <td>2/16/1992</td>\n",
       "    </tr>\n",
       "    <tr>\n",
       "      <th>2099758</th>\n",
       "      <td>Male</td>\n",
       "      <td>Svend Petrussen</td>\n",
       "      <td>Wilmington</td>\n",
       "      <td>NC</td>\n",
       "      <td>North Carolina</td>\n",
       "      <td>28405</td>\n",
       "      <td>United States</td>\n",
       "      <td>North America</td>\n",
       "      <td>11/9/1937</td>\n",
       "    </tr>\n",
       "    <tr>\n",
       "      <th>2099862</th>\n",
       "      <td>Female</td>\n",
       "      <td>Lorenza Rush</td>\n",
       "      <td>Riverside</td>\n",
       "      <td>CA</td>\n",
       "      <td>California</td>\n",
       "      <td>92501</td>\n",
       "      <td>United States</td>\n",
       "      <td>North America</td>\n",
       "      <td>10/12/1937</td>\n",
       "    </tr>\n",
       "    <tr>\n",
       "      <th>2099937</th>\n",
       "      <td>Male</td>\n",
       "      <td>Zygmunt Kaminski</td>\n",
       "      <td>Bloomfield Township</td>\n",
       "      <td>MI</td>\n",
       "      <td>Michigan</td>\n",
       "      <td>48302</td>\n",
       "      <td>United States</td>\n",
       "      <td>North America</td>\n",
       "      <td>8/18/1965</td>\n",
       "    </tr>\n",
       "  </tbody>\n",
       "</table>\n",
       "</div>"
      ],
      "text/plain": [
       "             Gender              Name                 City State Code  \\\n",
       "CustomerKey                                                             \n",
       "2099600      Female    Denisa Duková              Houston         TX   \n",
       "2099618        Male  Justin Solórzano               Mclean         VA   \n",
       "2099758        Male   Svend Petrussen           Wilmington         NC   \n",
       "2099862      Female      Lorenza Rush            Riverside         CA   \n",
       "2099937        Male  Zygmunt Kaminski  Bloomfield Township         MI   \n",
       "\n",
       "                      State Zip Code        Country      Continent    Birthday  \n",
       "CustomerKey                                                                     \n",
       "2099600               Texas    77017  United States  North America   3/25/1936  \n",
       "2099618            Virginia    22101  United States  North America   2/16/1992  \n",
       "2099758      North Carolina    28405  United States  North America   11/9/1937  \n",
       "2099862          California    92501  United States  North America  10/12/1937  \n",
       "2099937            Michigan    48302  United States  North America   8/18/1965  "
      ]
     },
     "execution_count": 251,
     "metadata": {},
     "output_type": "execute_result"
    }
   ],
   "source": [
    "# Loading the 'Customers' csv into Dataframe.\n",
    "customers_df = pd.read_csv('Customers.csv', index_col='CustomerKey', encoding = 'unicode_escape')\n",
    "customers_df.tail(5)"
   ]
  },
  {
   "cell_type": "code",
   "execution_count": 252,
   "id": "d8bb075e",
   "metadata": {},
   "outputs": [
    {
     "name": "stdout",
     "output_type": "stream",
     "text": [
      "<class 'pandas.core.frame.DataFrame'>\n",
      "Int64Index: 15266 entries, 301 to 2099937\n",
      "Data columns (total 9 columns):\n",
      " #   Column      Non-Null Count  Dtype \n",
      "---  ------      --------------  ----- \n",
      " 0   Gender      15266 non-null  object\n",
      " 1   Name        15266 non-null  object\n",
      " 2   City        15266 non-null  object\n",
      " 3   State Code  15256 non-null  object\n",
      " 4   State       15266 non-null  object\n",
      " 5   Zip Code    15266 non-null  object\n",
      " 6   Country     15266 non-null  object\n",
      " 7   Continent   15266 non-null  object\n",
      " 8   Birthday    15266 non-null  object\n",
      "dtypes: object(9)\n",
      "memory usage: 1.2+ MB\n"
     ]
    }
   ],
   "source": [
    "# Reviewing Dataframe.\n",
    "customers_df.info()"
   ]
  },
  {
   "cell_type": "markdown",
   "id": "b1768cb8",
   "metadata": {},
   "source": [
    "- 10 columns:CustomerKey, Gender, Name, City, State Code, State, Zip Code, Country, Continenet and Birthday."
   ]
  },
  {
   "cell_type": "markdown",
   "id": "696d18c9",
   "metadata": {},
   "source": [
    "- 15266 entries.\n",
    "- No null entries\n",
    "- All columns are listed as object, upon observing data that does not seem to be correct."
   ]
  },
  {
   "cell_type": "code",
   "execution_count": 253,
   "id": "68fdb4e4",
   "metadata": {},
   "outputs": [
    {
     "data": {
      "text/plain": [
       "0"
      ]
     },
     "execution_count": 253,
     "metadata": {},
     "output_type": "execute_result"
    }
   ],
   "source": [
    "# Checking for duplicate values.\n",
    "customers_df.duplicated().sum()"
   ]
  },
  {
   "cell_type": "markdown",
   "id": "e840e733",
   "metadata": {},
   "source": [
    "- No duplicated entries."
   ]
  },
  {
   "cell_type": "code",
   "execution_count": 254,
   "id": "0aaa2aba",
   "metadata": {},
   "outputs": [
    {
     "data": {
      "text/plain": [
       "Gender            2\n",
       "Name          15118\n",
       "City           8258\n",
       "State Code      467\n",
       "State           512\n",
       "Zip Code       9505\n",
       "Country           8\n",
       "Continent         3\n",
       "Birthday      11270\n",
       "dtype: int64"
      ]
     },
     "execution_count": 254,
     "metadata": {},
     "output_type": "execute_result"
    }
   ],
   "source": [
    "# Checking unique values for Category candidates. \n",
    "customers_df.nunique()"
   ]
  },
  {
   "cell_type": "markdown",
   "id": "da67c7af",
   "metadata": {},
   "source": [
    "- Gender, Country and Continent potential category columns."
   ]
  },
  {
   "cell_type": "code",
   "execution_count": 255,
   "id": "0f71bf74",
   "metadata": {},
   "outputs": [
    {
     "name": "stdout",
     "output_type": "stream",
     "text": [
      "<class 'pandas.core.frame.DataFrame'>\n",
      "Int64Index: 15266 entries, 301 to 2099937\n",
      "Data columns (total 9 columns):\n",
      " #   Column      Non-Null Count  Dtype \n",
      "---  ------      --------------  ----- \n",
      " 0   Gender      15266 non-null  object\n",
      " 1   Name        15266 non-null  object\n",
      " 2   City        15266 non-null  object\n",
      " 3   State Code  15256 non-null  object\n",
      " 4   State       15266 non-null  object\n",
      " 5   Zip Code    15266 non-null  object\n",
      " 6   Country     15266 non-null  object\n",
      " 7   Continent   15266 non-null  object\n",
      " 8   Birthday    15266 non-null  object\n",
      "dtypes: object(9)\n",
      "memory usage: 8.8 MB\n"
     ]
    }
   ],
   "source": [
    "# Checking memory usage.\n",
    "customers_df.info(memory_usage='deep')"
   ]
  },
  {
   "cell_type": "markdown",
   "id": "83dd5321",
   "metadata": {},
   "source": [
    "- 8.8 MB of memory."
   ]
  },
  {
   "cell_type": "code",
   "execution_count": 256,
   "id": "41152fd5",
   "metadata": {},
   "outputs": [
    {
     "data": {
      "text/plain": [
       "array(['Female', 'Male'], dtype=object)"
      ]
     },
     "execution_count": 256,
     "metadata": {},
     "output_type": "execute_result"
    }
   ],
   "source": [
    "# Categorizing Gender Column.\n",
    "customers_df['Gender'].unique()"
   ]
  },
  {
   "cell_type": "markdown",
   "id": "d0e0387d",
   "metadata": {},
   "source": [
    "- Only two gender options."
   ]
  },
  {
   "cell_type": "code",
   "execution_count": 257,
   "id": "616b68bb",
   "metadata": {},
   "outputs": [],
   "source": [
    "customers_df['Gender'] = pd.Categorical(\n",
    "    values = customers_df['Gender'], \n",
    "    categories = ['Female', 'Male'],\n",
    "    ordered = True\n",
    ")"
   ]
  },
  {
   "cell_type": "code",
   "execution_count": 258,
   "id": "8b781fed",
   "metadata": {},
   "outputs": [
    {
     "data": {
      "text/plain": [
       "array(['Australia', 'Canada', 'Germany', 'France', 'Italy', 'Netherlands',\n",
       "       'United Kingdom', 'United States'], dtype=object)"
      ]
     },
     "execution_count": 258,
     "metadata": {},
     "output_type": "execute_result"
    }
   ],
   "source": [
    "# Categorizing Country Column.\n",
    "customers_df['Country'].unique()"
   ]
  },
  {
   "cell_type": "markdown",
   "id": "29b3cd16",
   "metadata": {},
   "source": [
    "- Eight(8) different countries in the data: Australia, Canada, Germany, France, Italey, Netherlands, United Kingdom and United States."
   ]
  },
  {
   "cell_type": "code",
   "execution_count": 259,
   "id": "8c15f142",
   "metadata": {},
   "outputs": [],
   "source": [
    "customers_df['Country'] = pd.Categorical(\n",
    "    values = customers_df['Country'],\n",
    "    categories = ['Australia', 'Canada', 'Germany', 'France', 'Italy', 'Netherlands',\n",
    "       'United Kingdom', 'United States'],\n",
    "    ordered = True\n",
    ")"
   ]
  },
  {
   "cell_type": "code",
   "execution_count": 260,
   "id": "742c3fd4",
   "metadata": {},
   "outputs": [
    {
     "data": {
      "text/plain": [
       "array(['Australia', 'North America', 'Europe'], dtype=object)"
      ]
     },
     "execution_count": 260,
     "metadata": {},
     "output_type": "execute_result"
    }
   ],
   "source": [
    "# Categorizing Continent Column.\n",
    "customers_df['Continent'].unique()"
   ]
  },
  {
   "cell_type": "markdown",
   "id": "7dbf2e05",
   "metadata": {},
   "source": [
    "- Three(3) different continents in the data: Australia, North America and Europe."
   ]
  },
  {
   "cell_type": "code",
   "execution_count": 261,
   "id": "6b09a430",
   "metadata": {},
   "outputs": [],
   "source": [
    "customers_df['Continent'] = pd.Categorical(\n",
    "    values = customers_df['Continent'],\n",
    "    categories = ['Australia', 'North America', 'Europe'],\n",
    "    ordered = True\n",
    ")"
   ]
  },
  {
   "cell_type": "code",
   "execution_count": 262,
   "id": "3b564b37",
   "metadata": {},
   "outputs": [
    {
     "name": "stdout",
     "output_type": "stream",
     "text": [
      "<class 'pandas.core.frame.DataFrame'>\n",
      "Int64Index: 15266 entries, 301 to 2099937\n",
      "Data columns (total 9 columns):\n",
      " #   Column      Non-Null Count  Dtype   \n",
      "---  ------      --------------  -----   \n",
      " 0   Gender      15266 non-null  category\n",
      " 1   Name        15266 non-null  object  \n",
      " 2   City        15266 non-null  object  \n",
      " 3   State Code  15256 non-null  object  \n",
      " 4   State       15266 non-null  object  \n",
      " 5   Zip Code    15266 non-null  object  \n",
      " 6   Country     15266 non-null  category\n",
      " 7   Continent   15266 non-null  category\n",
      " 8   Birthday    15266 non-null  object  \n",
      "dtypes: category(3), object(6)\n",
      "memory usage: 5.9 MB\n"
     ]
    }
   ],
   "source": [
    "# Checking progress on memory usage.\n",
    "customers_df.info(memory_usage='deep')"
   ]
  },
  {
   "cell_type": "markdown",
   "id": "c0eb3e2a",
   "metadata": {},
   "source": [
    "- 5.9 MB of memory usage. "
   ]
  },
  {
   "cell_type": "code",
   "execution_count": 263,
   "id": "5cc3c71b",
   "metadata": {
    "scrolled": true
   },
   "outputs": [],
   "source": [
    "# Checking to see if Zip Code column needs to be changed to int data type.\n",
    "# customers_df.astype({'Zip Code': 'int64'}).dtypes"
   ]
  },
  {
   "cell_type": "markdown",
   "id": "542ba83a",
   "metadata": {},
   "source": [
    "- Canada, Netherlands and United Kingdom utilize alpha-numeric zipcodes, this column must remain in the object data type."
   ]
  },
  {
   "cell_type": "code",
   "execution_count": 264,
   "id": "42c0b855",
   "metadata": {},
   "outputs": [
    {
     "data": {
      "text/plain": [
       "Gender              category\n",
       "Name                  object\n",
       "City                  object\n",
       "State Code            object\n",
       "State                 object\n",
       "Zip Code              object\n",
       "Country             category\n",
       "Continent           category\n",
       "Birthday      datetime64[ns]\n",
       "dtype: object"
      ]
     },
     "execution_count": 264,
     "metadata": {},
     "output_type": "execute_result"
    }
   ],
   "source": [
    "# Changing Birthday Column to date time data type.\n",
    "customers_df.astype({'Birthday': 'datetime64'}).dtypes"
   ]
  },
  {
   "cell_type": "code",
   "execution_count": 265,
   "id": "a31f45ca",
   "metadata": {},
   "outputs": [
    {
     "data": {
      "text/html": [
       "<div>\n",
       "<style scoped>\n",
       "    .dataframe tbody tr th:only-of-type {\n",
       "        vertical-align: middle;\n",
       "    }\n",
       "\n",
       "    .dataframe tbody tr th {\n",
       "        vertical-align: top;\n",
       "    }\n",
       "\n",
       "    .dataframe thead th {\n",
       "        text-align: right;\n",
       "    }\n",
       "</style>\n",
       "<table border=\"1\" class=\"dataframe\">\n",
       "  <thead>\n",
       "    <tr style=\"text-align: right;\">\n",
       "      <th></th>\n",
       "      <th>Gender</th>\n",
       "      <th>Name</th>\n",
       "      <th>City</th>\n",
       "      <th>State Code</th>\n",
       "      <th>State</th>\n",
       "      <th>Zip Code</th>\n",
       "      <th>Country</th>\n",
       "      <th>Continent</th>\n",
       "      <th>Birthday</th>\n",
       "    </tr>\n",
       "    <tr>\n",
       "      <th>CustomerKey</th>\n",
       "      <th></th>\n",
       "      <th></th>\n",
       "      <th></th>\n",
       "      <th></th>\n",
       "      <th></th>\n",
       "      <th></th>\n",
       "      <th></th>\n",
       "      <th></th>\n",
       "      <th></th>\n",
       "    </tr>\n",
       "  </thead>\n",
       "  <tbody>\n",
       "    <tr>\n",
       "      <th>301</th>\n",
       "      <td>Female</td>\n",
       "      <td>Lilly Harding</td>\n",
       "      <td>WANDEARAH EAST</td>\n",
       "      <td>SA</td>\n",
       "      <td>South Australia</td>\n",
       "      <td>5523</td>\n",
       "      <td>Australia</td>\n",
       "      <td>Australia</td>\n",
       "      <td>7/3/1939</td>\n",
       "    </tr>\n",
       "    <tr>\n",
       "      <th>325</th>\n",
       "      <td>Female</td>\n",
       "      <td>Madison Hull</td>\n",
       "      <td>MOUNT BUDD</td>\n",
       "      <td>WA</td>\n",
       "      <td>Western Australia</td>\n",
       "      <td>6522</td>\n",
       "      <td>Australia</td>\n",
       "      <td>Australia</td>\n",
       "      <td>9/27/1979</td>\n",
       "    </tr>\n",
       "    <tr>\n",
       "      <th>554</th>\n",
       "      <td>Female</td>\n",
       "      <td>Claire Ferres</td>\n",
       "      <td>WINJALLOK</td>\n",
       "      <td>VIC</td>\n",
       "      <td>Victoria</td>\n",
       "      <td>3380</td>\n",
       "      <td>Australia</td>\n",
       "      <td>Australia</td>\n",
       "      <td>5/26/1947</td>\n",
       "    </tr>\n",
       "    <tr>\n",
       "      <th>786</th>\n",
       "      <td>Male</td>\n",
       "      <td>Jai Poltpalingada</td>\n",
       "      <td>MIDDLE RIVER</td>\n",
       "      <td>SA</td>\n",
       "      <td>South Australia</td>\n",
       "      <td>5223</td>\n",
       "      <td>Australia</td>\n",
       "      <td>Australia</td>\n",
       "      <td>9/17/1957</td>\n",
       "    </tr>\n",
       "    <tr>\n",
       "      <th>1042</th>\n",
       "      <td>Male</td>\n",
       "      <td>Aidan Pankhurst</td>\n",
       "      <td>TAWONGA SOUTH</td>\n",
       "      <td>VIC</td>\n",
       "      <td>Victoria</td>\n",
       "      <td>3698</td>\n",
       "      <td>Australia</td>\n",
       "      <td>Australia</td>\n",
       "      <td>11/19/1965</td>\n",
       "    </tr>\n",
       "  </tbody>\n",
       "</table>\n",
       "</div>"
      ],
      "text/plain": [
       "             Gender               Name            City State Code  \\\n",
       "CustomerKey                                                         \n",
       "301          Female      Lilly Harding  WANDEARAH EAST         SA   \n",
       "325          Female       Madison Hull      MOUNT BUDD         WA   \n",
       "554          Female      Claire Ferres       WINJALLOK        VIC   \n",
       "786            Male  Jai Poltpalingada    MIDDLE RIVER         SA   \n",
       "1042           Male    Aidan Pankhurst   TAWONGA SOUTH        VIC   \n",
       "\n",
       "                         State Zip Code    Country  Continent    Birthday  \n",
       "CustomerKey                                                                \n",
       "301            South Australia     5523  Australia  Australia    7/3/1939  \n",
       "325          Western Australia     6522  Australia  Australia   9/27/1979  \n",
       "554                   Victoria     3380  Australia  Australia   5/26/1947  \n",
       "786            South Australia     5223  Australia  Australia   9/17/1957  \n",
       "1042                  Victoria     3698  Australia  Australia  11/19/1965  "
      ]
     },
     "execution_count": 265,
     "metadata": {},
     "output_type": "execute_result"
    }
   ],
   "source": [
    "# Final view of dataframe.\n",
    "customers_df.head()"
   ]
  },
  {
   "cell_type": "code",
   "execution_count": 266,
   "id": "ca626f61",
   "metadata": {},
   "outputs": [],
   "source": [
    "# Exporting the new data table.\n",
    "customers_df.to_csv('customers_df.csv')"
   ]
  },
  {
   "cell_type": "markdown",
   "id": "1edb65ed",
   "metadata": {},
   "source": [
    "# Products Table"
   ]
  },
  {
   "cell_type": "code",
   "execution_count": 267,
   "id": "58894f33",
   "metadata": {},
   "outputs": [
    {
     "data": {
      "text/html": [
       "<div>\n",
       "<style scoped>\n",
       "    .dataframe tbody tr th:only-of-type {\n",
       "        vertical-align: middle;\n",
       "    }\n",
       "\n",
       "    .dataframe tbody tr th {\n",
       "        vertical-align: top;\n",
       "    }\n",
       "\n",
       "    .dataframe thead th {\n",
       "        text-align: right;\n",
       "    }\n",
       "</style>\n",
       "<table border=\"1\" class=\"dataframe\">\n",
       "  <thead>\n",
       "    <tr style=\"text-align: right;\">\n",
       "      <th></th>\n",
       "      <th>Product Name</th>\n",
       "      <th>Brand</th>\n",
       "      <th>Color</th>\n",
       "      <th>Unit Cost USD</th>\n",
       "      <th>Unit Price USD</th>\n",
       "      <th>SubcategoryKey</th>\n",
       "      <th>Subcategory</th>\n",
       "      <th>CategoryKey</th>\n",
       "      <th>Category</th>\n",
       "    </tr>\n",
       "    <tr>\n",
       "      <th>ProductKey</th>\n",
       "      <th></th>\n",
       "      <th></th>\n",
       "      <th></th>\n",
       "      <th></th>\n",
       "      <th></th>\n",
       "      <th></th>\n",
       "      <th></th>\n",
       "      <th></th>\n",
       "      <th></th>\n",
       "    </tr>\n",
       "  </thead>\n",
       "  <tbody>\n",
       "    <tr>\n",
       "      <th>2513</th>\n",
       "      <td>Contoso Bluetooth Active Headphones L15 Red</td>\n",
       "      <td>Contoso</td>\n",
       "      <td>Red</td>\n",
       "      <td>$43.07</td>\n",
       "      <td>$129.99</td>\n",
       "      <td>505</td>\n",
       "      <td>Cell phones Accessories</td>\n",
       "      <td>5</td>\n",
       "      <td>Cell phones</td>\n",
       "    </tr>\n",
       "    <tr>\n",
       "      <th>2514</th>\n",
       "      <td>Contoso Bluetooth Active Headphones L15 White</td>\n",
       "      <td>Contoso</td>\n",
       "      <td>White</td>\n",
       "      <td>$43.07</td>\n",
       "      <td>$129.99</td>\n",
       "      <td>505</td>\n",
       "      <td>Cell phones Accessories</td>\n",
       "      <td>5</td>\n",
       "      <td>Cell phones</td>\n",
       "    </tr>\n",
       "    <tr>\n",
       "      <th>2515</th>\n",
       "      <td>Contoso In-Line Coupler E180 White</td>\n",
       "      <td>Contoso</td>\n",
       "      <td>White</td>\n",
       "      <td>$1.71</td>\n",
       "      <td>$3.35</td>\n",
       "      <td>505</td>\n",
       "      <td>Cell phones Accessories</td>\n",
       "      <td>5</td>\n",
       "      <td>Cell phones</td>\n",
       "    </tr>\n",
       "    <tr>\n",
       "      <th>2516</th>\n",
       "      <td>Contoso In-Line Coupler E180 Black</td>\n",
       "      <td>Contoso</td>\n",
       "      <td>Black</td>\n",
       "      <td>$1.71</td>\n",
       "      <td>$3.35</td>\n",
       "      <td>505</td>\n",
       "      <td>Cell phones Accessories</td>\n",
       "      <td>5</td>\n",
       "      <td>Cell phones</td>\n",
       "    </tr>\n",
       "    <tr>\n",
       "      <th>2517</th>\n",
       "      <td>Contoso In-Line Coupler E180 Silver</td>\n",
       "      <td>Contoso</td>\n",
       "      <td>Silver</td>\n",
       "      <td>$1.71</td>\n",
       "      <td>$3.35</td>\n",
       "      <td>505</td>\n",
       "      <td>Cell phones Accessories</td>\n",
       "      <td>5</td>\n",
       "      <td>Cell phones</td>\n",
       "    </tr>\n",
       "  </tbody>\n",
       "</table>\n",
       "</div>"
      ],
      "text/plain": [
       "                                             Product Name    Brand   Color  \\\n",
       "ProductKey                                                                   \n",
       "2513          Contoso Bluetooth Active Headphones L15 Red  Contoso     Red   \n",
       "2514        Contoso Bluetooth Active Headphones L15 White  Contoso   White   \n",
       "2515                   Contoso In-Line Coupler E180 White  Contoso   White   \n",
       "2516                   Contoso In-Line Coupler E180 Black  Contoso   Black   \n",
       "2517                  Contoso In-Line Coupler E180 Silver  Contoso  Silver   \n",
       "\n",
       "           Unit Cost USD Unit Price USD  SubcategoryKey  \\\n",
       "ProductKey                                                \n",
       "2513             $43.07        $129.99              505   \n",
       "2514             $43.07        $129.99              505   \n",
       "2515              $1.71          $3.35              505   \n",
       "2516              $1.71          $3.35              505   \n",
       "2517              $1.71          $3.35              505   \n",
       "\n",
       "                        Subcategory  CategoryKey     Category  \n",
       "ProductKey                                                     \n",
       "2513        Cell phones Accessories            5  Cell phones  \n",
       "2514        Cell phones Accessories            5  Cell phones  \n",
       "2515        Cell phones Accessories            5  Cell phones  \n",
       "2516        Cell phones Accessories            5  Cell phones  \n",
       "2517        Cell phones Accessories            5  Cell phones  "
      ]
     },
     "execution_count": 267,
     "metadata": {},
     "output_type": "execute_result"
    }
   ],
   "source": [
    "# Loading the Dataframe for 'Products'.\n",
    "products_df = pd.read_csv('Products.csv', index_col='ProductKey', encoding = 'unicode_escape')\n",
    "products_df.tail(5)"
   ]
  },
  {
   "cell_type": "code",
   "execution_count": 268,
   "id": "72b36ab2",
   "metadata": {},
   "outputs": [
    {
     "name": "stdout",
     "output_type": "stream",
     "text": [
      "<class 'pandas.core.frame.DataFrame'>\n",
      "Int64Index: 2517 entries, 1 to 2517\n",
      "Data columns (total 9 columns):\n",
      " #   Column          Non-Null Count  Dtype \n",
      "---  ------          --------------  ----- \n",
      " 0   Product Name    2517 non-null   object\n",
      " 1   Brand           2517 non-null   object\n",
      " 2   Color           2517 non-null   object\n",
      " 3   Unit Cost USD   2517 non-null   object\n",
      " 4   Unit Price USD  2517 non-null   object\n",
      " 5   SubcategoryKey  2517 non-null   int64 \n",
      " 6   Subcategory     2517 non-null   object\n",
      " 7   CategoryKey     2517 non-null   int64 \n",
      " 8   Category        2517 non-null   object\n",
      "dtypes: int64(2), object(7)\n",
      "memory usage: 1.3 MB\n"
     ]
    }
   ],
   "source": [
    "# Reviewing the Dataframe.\n",
    "products_df.info(memory_usage ='deep')"
   ]
  },
  {
   "cell_type": "markdown",
   "id": "e3783662",
   "metadata": {},
   "source": [
    "- Dataframe Keys: Product Name, Brand, Color, Unit Cost USD, Unit Price USD, SubcategoryKey, Subcategory, CategoryKey and Category.\n",
    "- 2517 entries.\n",
    "- No null values.\n",
    "- Only running on 196 KB, relatively small.\n",
    "- Keys 3 and 4 are prices, candidates for float data type for quantitative analysis.\n",
    "- Keys 5, 6, 7 and 8 candidates for Categorical data types. "
   ]
  },
  {
   "cell_type": "code",
   "execution_count": 269,
   "id": "a453826e",
   "metadata": {},
   "outputs": [
    {
     "data": {
      "text/plain": [
       "Product Name      2517\n",
       "Brand               11\n",
       "Color               16\n",
       "Unit Cost USD      480\n",
       "Unit Price USD     426\n",
       "SubcategoryKey      32\n",
       "Subcategory         32\n",
       "CategoryKey          8\n",
       "Category             8\n",
       "dtype: int64"
      ]
     },
     "execution_count": 269,
     "metadata": {},
     "output_type": "execute_result"
    }
   ],
   "source": [
    "# Unique value totals.\n",
    "products_df.nunique()"
   ]
  },
  {
   "cell_type": "markdown",
   "id": "43504362",
   "metadata": {},
   "source": [
    "- Turns out Category/Subcategory keys are best candidates for Categorical data type."
   ]
  },
  {
   "cell_type": "code",
   "execution_count": 270,
   "id": "b83be42a",
   "metadata": {},
   "outputs": [
    {
     "data": {
      "text/plain": [
       "0"
      ]
     },
     "execution_count": 270,
     "metadata": {},
     "output_type": "execute_result"
    }
   ],
   "source": [
    "# Checking for duplicated entries.\n",
    "products_df.duplicated().sum()"
   ]
  },
  {
   "cell_type": "code",
   "execution_count": 271,
   "id": "3b5e2f4d",
   "metadata": {},
   "outputs": [
    {
     "name": "stdout",
     "output_type": "stream",
     "text": [
      "<class 'pandas.core.frame.DataFrame'>\n",
      "Int64Index: 2517 entries, 1 to 2517\n",
      "Data columns (total 9 columns):\n",
      " #   Column          Non-Null Count  Dtype \n",
      "---  ------          --------------  ----- \n",
      " 0   Product Name    2517 non-null   object\n",
      " 1   Brand           2517 non-null   object\n",
      " 2   Color           2517 non-null   object\n",
      " 3   Unit Cost USD   2517 non-null   object\n",
      " 4   Unit Price USD  2517 non-null   object\n",
      " 5   SubcategoryKey  2517 non-null   int64 \n",
      " 6   Subcategory     2517 non-null   object\n",
      " 7   CategoryKey     2517 non-null   int64 \n",
      " 8   Category        2517 non-null   object\n",
      "dtypes: int64(2), object(7)\n",
      "memory usage: 1.3 MB\n"
     ]
    }
   ],
   "source": [
    "# Checking memory usage.\n",
    "products_df.info(memory_usage='deep')"
   ]
  },
  {
   "cell_type": "code",
   "execution_count": 272,
   "id": "bef16283",
   "metadata": {},
   "outputs": [
    {
     "data": {
      "text/plain": [
       "array(['Audio', 'TV and Video', 'Computers', 'Cameras and camcorders',\n",
       "       'Cell phones', 'Music, Movies and Audio Books', 'Games and Toys',\n",
       "       'Home Appliances'], dtype=object)"
      ]
     },
     "execution_count": 272,
     "metadata": {},
     "output_type": "execute_result"
    }
   ],
   "source": [
    "# Chanwging CategoryKey and Category into Categorical data types.\n",
    "products_df['Category'].unique()"
   ]
  },
  {
   "cell_type": "code",
   "execution_count": 273,
   "id": "5a48d46a",
   "metadata": {},
   "outputs": [],
   "source": [
    "products_df['Category'] = pd.Categorical(\n",
    "    values = products_df['Category'],\n",
    "    categories = ['Audio', 'TV and Video', 'Computers', 'Cameras and camcorders',\n",
    "       'Cell phones', 'Music, Movies and Audio Books', 'Games and Toys',\n",
    "       'Home Appliances'],\n",
    "    ordered = True\n",
    ")"
   ]
  },
  {
   "cell_type": "code",
   "execution_count": 274,
   "id": "f2dbd412",
   "metadata": {},
   "outputs": [
    {
     "data": {
      "text/plain": [
       "array([1, 2, 3, 4, 5, 6, 7, 8], dtype=int64)"
      ]
     },
     "execution_count": 274,
     "metadata": {},
     "output_type": "execute_result"
    }
   ],
   "source": [
    "products_df['CategoryKey'].unique()"
   ]
  },
  {
   "cell_type": "code",
   "execution_count": 275,
   "id": "3a5a2181",
   "metadata": {},
   "outputs": [],
   "source": [
    "products_df['CategoryKey'] = pd.Categorical(\n",
    "    values = products_df['CategoryKey'],\n",
    "    categories = [1, 2, 3, 4, 5, 6, 7, 8],\n",
    "    ordered = True\n",
    ")"
   ]
  },
  {
   "cell_type": "code",
   "execution_count": 276,
   "id": "ef1e3fdb",
   "metadata": {},
   "outputs": [
    {
     "data": {
      "text/plain": [
       "Product Name        object\n",
       "Brand               object\n",
       "Color               object\n",
       "Unit Cost USD       object\n",
       "Unit Price USD      object\n",
       "SubcategoryKey       int64\n",
       "Subcategory         object\n",
       "CategoryKey       category\n",
       "Category          category\n",
       "dtype: object"
      ]
     },
     "execution_count": 276,
     "metadata": {},
     "output_type": "execute_result"
    }
   ],
   "source": [
    "products_df.dtypes"
   ]
  },
  {
   "cell_type": "code",
   "execution_count": 277,
   "id": "e38b6e8f",
   "metadata": {},
   "outputs": [
    {
     "name": "stderr",
     "output_type": "stream",
     "text": [
      "C:\\Users\\aaron\\AppData\\Roaming\\Python\\Python37\\site-packages\\ipykernel_launcher.py:3: FutureWarning: The default value of regex will change from True to False in a future version. In addition, single character regular expressions will *not* be treated as literal strings when regex=True.\n",
      "  This is separate from the ipykernel package so we can avoid doing imports until\n",
      "C:\\Users\\aaron\\AppData\\Roaming\\Python\\Python37\\site-packages\\ipykernel_launcher.py:5: FutureWarning: The default value of regex will change from True to False in a future version. In addition, single character regular expressions will *not* be treated as literal strings when regex=True.\n",
      "  \"\"\"\n"
     ]
    },
    {
     "data": {
      "text/html": [
       "<div>\n",
       "<style scoped>\n",
       "    .dataframe tbody tr th:only-of-type {\n",
       "        vertical-align: middle;\n",
       "    }\n",
       "\n",
       "    .dataframe tbody tr th {\n",
       "        vertical-align: top;\n",
       "    }\n",
       "\n",
       "    .dataframe thead th {\n",
       "        text-align: right;\n",
       "    }\n",
       "</style>\n",
       "<table border=\"1\" class=\"dataframe\">\n",
       "  <thead>\n",
       "    <tr style=\"text-align: right;\">\n",
       "      <th></th>\n",
       "      <th>Product Name</th>\n",
       "      <th>Brand</th>\n",
       "      <th>Color</th>\n",
       "      <th>Unit Cost USD</th>\n",
       "      <th>Unit Price USD</th>\n",
       "      <th>SubcategoryKey</th>\n",
       "      <th>Subcategory</th>\n",
       "      <th>CategoryKey</th>\n",
       "      <th>Category</th>\n",
       "    </tr>\n",
       "    <tr>\n",
       "      <th>ProductKey</th>\n",
       "      <th></th>\n",
       "      <th></th>\n",
       "      <th></th>\n",
       "      <th></th>\n",
       "      <th></th>\n",
       "      <th></th>\n",
       "      <th></th>\n",
       "      <th></th>\n",
       "      <th></th>\n",
       "    </tr>\n",
       "  </thead>\n",
       "  <tbody>\n",
       "    <tr>\n",
       "      <th>1</th>\n",
       "      <td>Contoso 512MB MP3 Player E51 Silver</td>\n",
       "      <td>Contoso</td>\n",
       "      <td>Silver</td>\n",
       "      <td>6.62</td>\n",
       "      <td>12.99</td>\n",
       "      <td>101</td>\n",
       "      <td>MP4&amp;MP3</td>\n",
       "      <td>1</td>\n",
       "      <td>Audio</td>\n",
       "    </tr>\n",
       "    <tr>\n",
       "      <th>2</th>\n",
       "      <td>Contoso 512MB MP3 Player E51 Blue</td>\n",
       "      <td>Contoso</td>\n",
       "      <td>Blue</td>\n",
       "      <td>6.62</td>\n",
       "      <td>12.99</td>\n",
       "      <td>101</td>\n",
       "      <td>MP4&amp;MP3</td>\n",
       "      <td>1</td>\n",
       "      <td>Audio</td>\n",
       "    </tr>\n",
       "    <tr>\n",
       "      <th>3</th>\n",
       "      <td>Contoso 1G MP3 Player E100 White</td>\n",
       "      <td>Contoso</td>\n",
       "      <td>White</td>\n",
       "      <td>7.40</td>\n",
       "      <td>14.52</td>\n",
       "      <td>101</td>\n",
       "      <td>MP4&amp;MP3</td>\n",
       "      <td>1</td>\n",
       "      <td>Audio</td>\n",
       "    </tr>\n",
       "    <tr>\n",
       "      <th>4</th>\n",
       "      <td>Contoso 2G MP3 Player E200 Silver</td>\n",
       "      <td>Contoso</td>\n",
       "      <td>Silver</td>\n",
       "      <td>11.00</td>\n",
       "      <td>21.57</td>\n",
       "      <td>101</td>\n",
       "      <td>MP4&amp;MP3</td>\n",
       "      <td>1</td>\n",
       "      <td>Audio</td>\n",
       "    </tr>\n",
       "    <tr>\n",
       "      <th>5</th>\n",
       "      <td>Contoso 2G MP3 Player E200 Red</td>\n",
       "      <td>Contoso</td>\n",
       "      <td>Red</td>\n",
       "      <td>11.00</td>\n",
       "      <td>21.57</td>\n",
       "      <td>101</td>\n",
       "      <td>MP4&amp;MP3</td>\n",
       "      <td>1</td>\n",
       "      <td>Audio</td>\n",
       "    </tr>\n",
       "  </tbody>\n",
       "</table>\n",
       "</div>"
      ],
      "text/plain": [
       "                                   Product Name    Brand   Color  \\\n",
       "ProductKey                                                         \n",
       "1           Contoso 512MB MP3 Player E51 Silver  Contoso  Silver   \n",
       "2             Contoso 512MB MP3 Player E51 Blue  Contoso    Blue   \n",
       "3              Contoso 1G MP3 Player E100 White  Contoso   White   \n",
       "4             Contoso 2G MP3 Player E200 Silver  Contoso  Silver   \n",
       "5                Contoso 2G MP3 Player E200 Red  Contoso     Red   \n",
       "\n",
       "           Unit Cost USD Unit Price USD  SubcategoryKey Subcategory  \\\n",
       "ProductKey                                                            \n",
       "1                  6.62          12.99              101     MP4&MP3   \n",
       "2                  6.62          12.99              101     MP4&MP3   \n",
       "3                  7.40          14.52              101     MP4&MP3   \n",
       "4                 11.00          21.57              101     MP4&MP3   \n",
       "5                 11.00          21.57              101     MP4&MP3   \n",
       "\n",
       "           CategoryKey Category  \n",
       "ProductKey                       \n",
       "1                    1    Audio  \n",
       "2                    1    Audio  \n",
       "3                    1    Audio  \n",
       "4                    1    Audio  \n",
       "5                    1    Audio  "
      ]
     },
     "execution_count": 277,
     "metadata": {},
     "output_type": "execute_result"
    }
   ],
   "source": [
    "# Converting Unit Cost USD and Unit Price USD to floats for better quantitative calculations.\n",
    "# First step is removing the non-numeric '$' and ',' from the the numbers.\n",
    "products_df['Unit Cost USD'] = products_df['Unit Cost USD'].str.replace('$', '')\n",
    "products_df['Unit Cost USD'] = products_df['Unit Cost USD'].str.replace(',', '')\n",
    "products_df['Unit Price USD'] = products_df['Unit Price USD'].str.replace('$', '')\n",
    "products_df['Unit Price USD'] = products_df['Unit Price USD'].str.replace(',', '')\n",
    "products_df.head()"
   ]
  },
  {
   "cell_type": "code",
   "execution_count": 278,
   "id": "e3a15c98",
   "metadata": {},
   "outputs": [
    {
     "data": {
      "text/plain": [
       "Product Name        object\n",
       "Brand               object\n",
       "Color               object\n",
       "Unit Cost USD      float64\n",
       "Unit Price USD     float64\n",
       "SubcategoryKey       int64\n",
       "Subcategory         object\n",
       "CategoryKey       category\n",
       "Category          category\n",
       "dtype: object"
      ]
     },
     "execution_count": 278,
     "metadata": {},
     "output_type": "execute_result"
    }
   ],
   "source": [
    "# Now that we're dealing with just numbers, changing the data type to float.\n",
    "products_df['Unit Cost USD'] = pd.to_numeric(products_df['Unit Cost USD'])\n",
    "products_df['Unit Price USD'] = pd.to_numeric(products_df['Unit Price USD'])\n",
    "products_df.dtypes"
   ]
  },
  {
   "cell_type": "markdown",
   "id": "78e73088",
   "metadata": {},
   "source": [
    " - Unit Cost USD and Unit Prices USD converted to float64 data type."
   ]
  },
  {
   "cell_type": "code",
   "execution_count": 279,
   "id": "4eb8d2d2",
   "metadata": {},
   "outputs": [],
   "source": [
    "# Exporting the dataframe.\n",
    "products_df.to_csv('products_df.csv')"
   ]
  },
  {
   "cell_type": "markdown",
   "id": "f806c9e3",
   "metadata": {},
   "source": [
    "# Sales Table"
   ]
  },
  {
   "cell_type": "code",
   "execution_count": 280,
   "id": "8ac6f1f2",
   "metadata": {},
   "outputs": [
    {
     "data": {
      "text/html": [
       "<div>\n",
       "<style scoped>\n",
       "    .dataframe tbody tr th:only-of-type {\n",
       "        vertical-align: middle;\n",
       "    }\n",
       "\n",
       "    .dataframe tbody tr th {\n",
       "        vertical-align: top;\n",
       "    }\n",
       "\n",
       "    .dataframe thead th {\n",
       "        text-align: right;\n",
       "    }\n",
       "</style>\n",
       "<table border=\"1\" class=\"dataframe\">\n",
       "  <thead>\n",
       "    <tr style=\"text-align: right;\">\n",
       "      <th></th>\n",
       "      <th>Order Number</th>\n",
       "      <th>Line Item</th>\n",
       "      <th>Order Date</th>\n",
       "      <th>Delivery Date</th>\n",
       "      <th>CustomerKey</th>\n",
       "      <th>StoreKey</th>\n",
       "      <th>Quantity</th>\n",
       "      <th>Currency Code</th>\n",
       "    </tr>\n",
       "    <tr>\n",
       "      <th>ProductKey</th>\n",
       "      <th></th>\n",
       "      <th></th>\n",
       "      <th></th>\n",
       "      <th></th>\n",
       "      <th></th>\n",
       "      <th></th>\n",
       "      <th></th>\n",
       "      <th></th>\n",
       "    </tr>\n",
       "  </thead>\n",
       "  <tbody>\n",
       "    <tr>\n",
       "      <th>632</th>\n",
       "      <td>2243030</td>\n",
       "      <td>1</td>\n",
       "      <td>2/20/2021</td>\n",
       "      <td>NaN</td>\n",
       "      <td>1216913</td>\n",
       "      <td>43</td>\n",
       "      <td>3</td>\n",
       "      <td>USD</td>\n",
       "    </tr>\n",
       "    <tr>\n",
       "      <th>98</th>\n",
       "      <td>2243031</td>\n",
       "      <td>1</td>\n",
       "      <td>2/20/2021</td>\n",
       "      <td>2/24/2021</td>\n",
       "      <td>511229</td>\n",
       "      <td>0</td>\n",
       "      <td>4</td>\n",
       "      <td>EUR</td>\n",
       "    </tr>\n",
       "    <tr>\n",
       "      <th>1613</th>\n",
       "      <td>2243032</td>\n",
       "      <td>1</td>\n",
       "      <td>2/20/2021</td>\n",
       "      <td>2/23/2021</td>\n",
       "      <td>331277</td>\n",
       "      <td>0</td>\n",
       "      <td>2</td>\n",
       "      <td>CAD</td>\n",
       "    </tr>\n",
       "    <tr>\n",
       "      <th>1717</th>\n",
       "      <td>2243032</td>\n",
       "      <td>2</td>\n",
       "      <td>2/20/2021</td>\n",
       "      <td>2/23/2021</td>\n",
       "      <td>331277</td>\n",
       "      <td>0</td>\n",
       "      <td>2</td>\n",
       "      <td>CAD</td>\n",
       "    </tr>\n",
       "    <tr>\n",
       "      <th>464</th>\n",
       "      <td>2243032</td>\n",
       "      <td>3</td>\n",
       "      <td>2/20/2021</td>\n",
       "      <td>2/23/2021</td>\n",
       "      <td>331277</td>\n",
       "      <td>0</td>\n",
       "      <td>7</td>\n",
       "      <td>CAD</td>\n",
       "    </tr>\n",
       "  </tbody>\n",
       "</table>\n",
       "</div>"
      ],
      "text/plain": [
       "            Order Number  Line Item Order Date Delivery Date  CustomerKey  \\\n",
       "ProductKey                                                                  \n",
       "632              2243030          1  2/20/2021           NaN      1216913   \n",
       "98               2243031          1  2/20/2021     2/24/2021       511229   \n",
       "1613             2243032          1  2/20/2021     2/23/2021       331277   \n",
       "1717             2243032          2  2/20/2021     2/23/2021       331277   \n",
       "464              2243032          3  2/20/2021     2/23/2021       331277   \n",
       "\n",
       "            StoreKey  Quantity Currency Code  \n",
       "ProductKey                                    \n",
       "632               43         3           USD  \n",
       "98                 0         4           EUR  \n",
       "1613               0         2           CAD  \n",
       "1717               0         2           CAD  \n",
       "464                0         7           CAD  "
      ]
     },
     "execution_count": 280,
     "metadata": {},
     "output_type": "execute_result"
    }
   ],
   "source": [
    "# Loading Sales.csv into Dataframe.\n",
    "sales_df = pd.read_csv('Sales.csv', index_col = 'ProductKey')\n",
    "sales_df.tail()"
   ]
  },
  {
   "cell_type": "code",
   "execution_count": 281,
   "id": "6b925037",
   "metadata": {},
   "outputs": [
    {
     "name": "stdout",
     "output_type": "stream",
     "text": [
      "<class 'pandas.core.frame.DataFrame'>\n",
      "Int64Index: 62884 entries, 1304 to 464\n",
      "Data columns (total 8 columns):\n",
      " #   Column         Non-Null Count  Dtype \n",
      "---  ------         --------------  ----- \n",
      " 0   Order Number   62884 non-null  int64 \n",
      " 1   Line Item      62884 non-null  int64 \n",
      " 2   Order Date     62884 non-null  object\n",
      " 3   Delivery Date  13165 non-null  object\n",
      " 4   CustomerKey    62884 non-null  int64 \n",
      " 5   StoreKey       62884 non-null  int64 \n",
      " 6   Quantity       62884 non-null  int64 \n",
      " 7   Currency Code  62884 non-null  object\n",
      "dtypes: int64(5), object(3)\n",
      "memory usage: 12.8 MB\n"
     ]
    }
   ],
   "source": [
    "# Reviewing Dataframe.\n",
    "sales_df.info(memory_usage='deep')"
   ]
  },
  {
   "cell_type": "markdown",
   "id": "b681e0ff",
   "metadata": {},
   "source": [
    "- 8 columns with 62884 entries.\n",
    "- Columns: Order Number, Line Number, Order Date, Delivery Date, CustomerKey, StoreKey, Quantity and Currency Code."
   ]
  },
  {
   "cell_type": "code",
   "execution_count": 282,
   "id": "eac7d157",
   "metadata": {},
   "outputs": [
    {
     "data": {
      "text/plain": [
       "0"
      ]
     },
     "execution_count": 282,
     "metadata": {},
     "output_type": "execute_result"
    }
   ],
   "source": [
    "# Checking for duplicated rows.\n",
    "sales_df.duplicated().sum()"
   ]
  },
  {
   "cell_type": "code",
   "execution_count": 283,
   "id": "9dab3fe2",
   "metadata": {},
   "outputs": [
    {
     "data": {
      "text/plain": [
       "Order Number     26326\n",
       "Line Item            7\n",
       "Order Date        1641\n",
       "Delivery Date     1492\n",
       "CustomerKey      11887\n",
       "StoreKey            58\n",
       "Quantity            10\n",
       "Currency Code        5\n",
       "dtype: int64"
      ]
     },
     "execution_count": 283,
     "metadata": {},
     "output_type": "execute_result"
    }
   ],
   "source": [
    "# Checking for unique value counts.\n",
    "sales_df.nunique()"
   ]
  },
  {
   "cell_type": "markdown",
   "id": "4bd45475",
   "metadata": {},
   "source": [
    "- Currency Code candidate for Categorical data type."
   ]
  },
  {
   "cell_type": "code",
   "execution_count": 284,
   "id": "da20294a",
   "metadata": {},
   "outputs": [
    {
     "data": {
      "text/plain": [
       "array(['CAD', 'USD', 'GBP', 'EUR', 'AUD'], dtype=object)"
      ]
     },
     "execution_count": 284,
     "metadata": {},
     "output_type": "execute_result"
    }
   ],
   "source": [
    "# Converting Currency Code into Categorical data type.\n",
    "sales_df['Currency Code'].unique()"
   ]
  },
  {
   "cell_type": "code",
   "execution_count": 285,
   "id": "9d1ff6bc",
   "metadata": {},
   "outputs": [],
   "source": [
    "sales_df['Currency Code'] = pd.Categorical(\n",
    "    values = sales_df['Currency Code'],\n",
    "    categories = ['CAD', 'USD', 'GBP', 'EUR', 'AUD'],\n",
    "    ordered = True\n",
    ")"
   ]
  },
  {
   "cell_type": "code",
   "execution_count": 286,
   "id": "00c932d9",
   "metadata": {},
   "outputs": [
    {
     "name": "stdout",
     "output_type": "stream",
     "text": [
      "<class 'pandas.core.frame.DataFrame'>\n",
      "Int64Index: 62884 entries, 1304 to 464\n",
      "Data columns (total 8 columns):\n",
      " #   Column         Non-Null Count  Dtype   \n",
      "---  ------         --------------  -----   \n",
      " 0   Order Number   62884 non-null  int64   \n",
      " 1   Line Item      62884 non-null  int64   \n",
      " 2   Order Date     62884 non-null  object  \n",
      " 3   Delivery Date  13165 non-null  object  \n",
      " 4   CustomerKey    62884 non-null  int64   \n",
      " 5   StoreKey       62884 non-null  int64   \n",
      " 6   Quantity       62884 non-null  int64   \n",
      " 7   Currency Code  62884 non-null  category\n",
      "dtypes: category(1), int64(5), object(2)\n",
      "memory usage: 9.2 MB\n"
     ]
    }
   ],
   "source": [
    "sales_df.info(memory_usage='deep')"
   ]
  },
  {
   "cell_type": "markdown",
   "id": "3f480fec",
   "metadata": {},
   "source": [
    "- Improved memory usage by 3 MB."
   ]
  },
  {
   "cell_type": "code",
   "execution_count": 287,
   "id": "086a62f3",
   "metadata": {},
   "outputs": [
    {
     "data": {
      "text/plain": [
       "Order Number              int64\n",
       "Line Item                 int64\n",
       "Order Date               object\n",
       "Delivery Date    datetime64[ns]\n",
       "CustomerKey               int64\n",
       "StoreKey                  int64\n",
       "Quantity                  int64\n",
       "Currency Code          category\n",
       "dtype: object"
      ]
     },
     "execution_count": 287,
     "metadata": {},
     "output_type": "execute_result"
    }
   ],
   "source": [
    "sales_df['Delivery Date'] = pd.to_datetime(sales_df['Delivery Date'])\n",
    "sales_df.dtypes"
   ]
  },
  {
   "cell_type": "code",
   "execution_count": 288,
   "id": "c35cfaf9",
   "metadata": {},
   "outputs": [],
   "source": [
    "sales_df['Order Date'] = pd.to_datetime(sales_df['Order Date'], errors='ignore')"
   ]
  },
  {
   "cell_type": "code",
   "execution_count": 289,
   "id": "0f5a29c9",
   "metadata": {},
   "outputs": [
    {
     "data": {
      "text/plain": [
       "Order Number              int64\n",
       "Line Item                 int64\n",
       "Order Date       datetime64[ns]\n",
       "Delivery Date    datetime64[ns]\n",
       "CustomerKey               int64\n",
       "StoreKey                  int64\n",
       "Quantity                  int64\n",
       "Currency Code          category\n",
       "dtype: object"
      ]
     },
     "execution_count": 289,
     "metadata": {},
     "output_type": "execute_result"
    }
   ],
   "source": [
    "sales_df.dtypes"
   ]
  },
  {
   "cell_type": "code",
   "execution_count": 290,
   "id": "086997ae",
   "metadata": {},
   "outputs": [],
   "source": [
    "# Exporting the Dataframe.\n",
    "sales_df.to_csv('sales_df.csv')"
   ]
  },
  {
   "cell_type": "markdown",
   "id": "fc35caa3",
   "metadata": {},
   "source": [
    "# Stores Table"
   ]
  },
  {
   "cell_type": "code",
   "execution_count": 291,
   "id": "f876eaa1",
   "metadata": {},
   "outputs": [
    {
     "data": {
      "text/html": [
       "<div>\n",
       "<style scoped>\n",
       "    .dataframe tbody tr th:only-of-type {\n",
       "        vertical-align: middle;\n",
       "    }\n",
       "\n",
       "    .dataframe tbody tr th {\n",
       "        vertical-align: top;\n",
       "    }\n",
       "\n",
       "    .dataframe thead th {\n",
       "        text-align: right;\n",
       "    }\n",
       "</style>\n",
       "<table border=\"1\" class=\"dataframe\">\n",
       "  <thead>\n",
       "    <tr style=\"text-align: right;\">\n",
       "      <th></th>\n",
       "      <th>Country</th>\n",
       "      <th>State</th>\n",
       "      <th>Square Meters</th>\n",
       "      <th>Open Date</th>\n",
       "    </tr>\n",
       "    <tr>\n",
       "      <th>StoreKey</th>\n",
       "      <th></th>\n",
       "      <th></th>\n",
       "      <th></th>\n",
       "      <th></th>\n",
       "    </tr>\n",
       "  </thead>\n",
       "  <tbody>\n",
       "    <tr>\n",
       "      <th>63</th>\n",
       "      <td>United States</td>\n",
       "      <td>Utah</td>\n",
       "      <td>2000.0</td>\n",
       "      <td>3/6/2008</td>\n",
       "    </tr>\n",
       "    <tr>\n",
       "      <th>64</th>\n",
       "      <td>United States</td>\n",
       "      <td>Washington DC</td>\n",
       "      <td>1330.0</td>\n",
       "      <td>1/1/2010</td>\n",
       "    </tr>\n",
       "    <tr>\n",
       "      <th>65</th>\n",
       "      <td>United States</td>\n",
       "      <td>West Virginia</td>\n",
       "      <td>1785.0</td>\n",
       "      <td>1/1/2012</td>\n",
       "    </tr>\n",
       "    <tr>\n",
       "      <th>66</th>\n",
       "      <td>United States</td>\n",
       "      <td>Wyoming</td>\n",
       "      <td>840.0</td>\n",
       "      <td>1/1/2014</td>\n",
       "    </tr>\n",
       "    <tr>\n",
       "      <th>0</th>\n",
       "      <td>Online</td>\n",
       "      <td>Online</td>\n",
       "      <td>NaN</td>\n",
       "      <td>1/1/2010</td>\n",
       "    </tr>\n",
       "  </tbody>\n",
       "</table>\n",
       "</div>"
      ],
      "text/plain": [
       "                Country          State  Square Meters Open Date\n",
       "StoreKey                                                       \n",
       "63        United States           Utah         2000.0  3/6/2008\n",
       "64        United States  Washington DC         1330.0  1/1/2010\n",
       "65        United States  West Virginia         1785.0  1/1/2012\n",
       "66        United States        Wyoming          840.0  1/1/2014\n",
       "0                Online         Online            NaN  1/1/2010"
      ]
     },
     "execution_count": 291,
     "metadata": {},
     "output_type": "execute_result"
    }
   ],
   "source": [
    "# Uploading the stores.csv into Dataframe.\n",
    "stores_df = pd.read_csv('stores.csv', index_col = 'StoreKey')\n",
    "stores_df.tail()"
   ]
  },
  {
   "cell_type": "code",
   "execution_count": 292,
   "id": "8241d07b",
   "metadata": {},
   "outputs": [
    {
     "name": "stdout",
     "output_type": "stream",
     "text": [
      "<class 'pandas.core.frame.DataFrame'>\n",
      "Int64Index: 67 entries, 1 to 0\n",
      "Data columns (total 4 columns):\n",
      " #   Column         Non-Null Count  Dtype  \n",
      "---  ------         --------------  -----  \n",
      " 0   Country        67 non-null     object \n",
      " 1   State          67 non-null     object \n",
      " 2   Square Meters  66 non-null     float64\n",
      " 3   Open Date      67 non-null     object \n",
      "dtypes: float64(1), object(3)\n",
      "memory usage: 14.2 KB\n"
     ]
    }
   ],
   "source": [
    "# Reviewing stores table data.\n",
    "stores_df.info(memory_usage='deep')"
   ]
  },
  {
   "cell_type": "markdown",
   "id": "a216b13e",
   "metadata": {},
   "source": [
    "- 67 entries\n",
    "- Non-null\n",
    "- 4 columns: Country, State, Square Meters, Open Date.\n",
    "- Open Date candidate for datetime."
   ]
  },
  {
   "cell_type": "code",
   "execution_count": 293,
   "id": "4af701df",
   "metadata": {},
   "outputs": [
    {
     "data": {
      "text/plain": [
       "0"
      ]
     },
     "execution_count": 293,
     "metadata": {},
     "output_type": "execute_result"
    }
   ],
   "source": [
    "# Checking for duplicated data.\n",
    "stores_df.duplicated().sum()"
   ]
  },
  {
   "cell_type": "code",
   "execution_count": 294,
   "id": "da10e3b0",
   "metadata": {},
   "outputs": [
    {
     "data": {
      "text/plain": [
       "Country           9\n",
       "State            67\n",
       "Square Meters    36\n",
       "Open Date        25\n",
       "dtype: int64"
      ]
     },
     "execution_count": 294,
     "metadata": {},
     "output_type": "execute_result"
    }
   ],
   "source": [
    "# Checking columns for unique values.\n",
    "stores_df.nunique()"
   ]
  },
  {
   "cell_type": "code",
   "execution_count": 295,
   "id": "d889d6bf",
   "metadata": {},
   "outputs": [
    {
     "data": {
      "text/plain": [
       "Country                  object\n",
       "State                    object\n",
       "Square Meters           float64\n",
       "Open Date        datetime64[ns]\n",
       "dtype: object"
      ]
     },
     "execution_count": 295,
     "metadata": {},
     "output_type": "execute_result"
    }
   ],
   "source": [
    "# Changing open date to datetime.\n",
    "stores_df['Open Date'] = pd.to_datetime(stores_df['Open Date'])\n",
    "stores_df.dtypes"
   ]
  },
  {
   "cell_type": "code",
   "execution_count": 296,
   "id": "71a73de5",
   "metadata": {},
   "outputs": [],
   "source": [
    "# Exporting Dateframe.\n",
    "stores_df.to_csv('stores_df.csv')"
   ]
  },
  {
   "cell_type": "markdown",
   "id": "f8a34e8a",
   "metadata": {},
   "source": [
    "# Exchange_Rates Table"
   ]
  },
  {
   "cell_type": "code",
   "execution_count": 297,
   "id": "9afbf960",
   "metadata": {},
   "outputs": [
    {
     "data": {
      "text/html": [
       "<div>\n",
       "<style scoped>\n",
       "    .dataframe tbody tr th:only-of-type {\n",
       "        vertical-align: middle;\n",
       "    }\n",
       "\n",
       "    .dataframe tbody tr th {\n",
       "        vertical-align: top;\n",
       "    }\n",
       "\n",
       "    .dataframe thead th {\n",
       "        text-align: right;\n",
       "    }\n",
       "</style>\n",
       "<table border=\"1\" class=\"dataframe\">\n",
       "  <thead>\n",
       "    <tr style=\"text-align: right;\">\n",
       "      <th></th>\n",
       "      <th>Date</th>\n",
       "      <th>Currency</th>\n",
       "      <th>Exchange</th>\n",
       "    </tr>\n",
       "  </thead>\n",
       "  <tbody>\n",
       "    <tr>\n",
       "      <th>11210</th>\n",
       "      <td>2/20/2021</td>\n",
       "      <td>USD</td>\n",
       "      <td>1.0000</td>\n",
       "    </tr>\n",
       "    <tr>\n",
       "      <th>11211</th>\n",
       "      <td>2/20/2021</td>\n",
       "      <td>CAD</td>\n",
       "      <td>1.2610</td>\n",
       "    </tr>\n",
       "    <tr>\n",
       "      <th>11212</th>\n",
       "      <td>2/20/2021</td>\n",
       "      <td>AUD</td>\n",
       "      <td>1.2723</td>\n",
       "    </tr>\n",
       "    <tr>\n",
       "      <th>11213</th>\n",
       "      <td>2/20/2021</td>\n",
       "      <td>EUR</td>\n",
       "      <td>0.8238</td>\n",
       "    </tr>\n",
       "    <tr>\n",
       "      <th>11214</th>\n",
       "      <td>2/20/2021</td>\n",
       "      <td>GBP</td>\n",
       "      <td>0.7126</td>\n",
       "    </tr>\n",
       "  </tbody>\n",
       "</table>\n",
       "</div>"
      ],
      "text/plain": [
       "            Date Currency  Exchange\n",
       "11210  2/20/2021      USD    1.0000\n",
       "11211  2/20/2021      CAD    1.2610\n",
       "11212  2/20/2021      AUD    1.2723\n",
       "11213  2/20/2021      EUR    0.8238\n",
       "11214  2/20/2021      GBP    0.7126"
      ]
     },
     "execution_count": 297,
     "metadata": {},
     "output_type": "execute_result"
    }
   ],
   "source": [
    "# Loading Dataframe.\n",
    "exchange_rates_df = pd.read_csv('exchange_rates.csv')\n",
    "exchange_rates_df.tail()"
   ]
  },
  {
   "cell_type": "code",
   "execution_count": 298,
   "id": "16a039d4",
   "metadata": {},
   "outputs": [
    {
     "name": "stdout",
     "output_type": "stream",
     "text": [
      "<class 'pandas.core.frame.DataFrame'>\n",
      "RangeIndex: 11215 entries, 0 to 11214\n",
      "Data columns (total 3 columns):\n",
      " #   Column    Non-Null Count  Dtype  \n",
      "---  ------    --------------  -----  \n",
      " 0   Date      11215 non-null  object \n",
      " 1   Currency  11215 non-null  object \n",
      " 2   Exchange  11215 non-null  float64\n",
      "dtypes: float64(1), object(2)\n",
      "memory usage: 1.4 MB\n"
     ]
    }
   ],
   "source": [
    "exchange_rates_df.info(memory_usage='deep')"
   ]
  },
  {
   "cell_type": "code",
   "execution_count": 299,
   "id": "fa018660",
   "metadata": {},
   "outputs": [
    {
     "data": {
      "text/plain": [
       "0"
      ]
     },
     "execution_count": 299,
     "metadata": {},
     "output_type": "execute_result"
    }
   ],
   "source": [
    "# Checking for duplicates.\n",
    "exchange_rates_df.duplicated().sum()"
   ]
  },
  {
   "cell_type": "code",
   "execution_count": 300,
   "id": "f795557a",
   "metadata": {},
   "outputs": [
    {
     "data": {
      "text/plain": [
       "Date        2243\n",
       "Currency       5\n",
       "Exchange    3473\n",
       "dtype: int64"
      ]
     },
     "execution_count": 300,
     "metadata": {},
     "output_type": "execute_result"
    }
   ],
   "source": [
    "# Checking unique values.\n",
    "exchange_rates_df.nunique()"
   ]
  },
  {
   "cell_type": "markdown",
   "id": "ad377fbc",
   "metadata": {},
   "source": [
    "- Currency is a candidate for categorical data type."
   ]
  },
  {
   "cell_type": "code",
   "execution_count": 301,
   "id": "34905c31",
   "metadata": {},
   "outputs": [
    {
     "data": {
      "text/plain": [
       "array(['USD', 'CAD', 'AUD', 'EUR', 'GBP'], dtype=object)"
      ]
     },
     "execution_count": 301,
     "metadata": {},
     "output_type": "execute_result"
    }
   ],
   "source": [
    "# Changing exchange_rates Currency column into categorical data type.\n",
    "exchange_rates_df['Currency'].unique()"
   ]
  },
  {
   "cell_type": "code",
   "execution_count": 302,
   "id": "15e73724",
   "metadata": {},
   "outputs": [],
   "source": [
    "exchange_rates_df['Currency'] = pd.Categorical(\n",
    "    values = exchange_rates_df['Currency'],\n",
    "    categories = ['CAD', 'USD', 'GBP', 'EUR', 'AUD'],\n",
    "    ordered = True\n",
    ")"
   ]
  },
  {
   "cell_type": "code",
   "execution_count": 303,
   "id": "237a66c7",
   "metadata": {},
   "outputs": [
    {
     "name": "stdout",
     "output_type": "stream",
     "text": [
      "<class 'pandas.core.frame.DataFrame'>\n",
      "RangeIndex: 11215 entries, 0 to 11214\n",
      "Data columns (total 3 columns):\n",
      " #   Column    Non-Null Count  Dtype         \n",
      "---  ------    --------------  -----         \n",
      " 0   Date      11215 non-null  datetime64[ns]\n",
      " 1   Currency  11215 non-null  category      \n",
      " 2   Exchange  11215 non-null  float64       \n",
      "dtypes: category(1), datetime64[ns](1), float64(1)\n",
      "memory usage: 186.5 KB\n"
     ]
    }
   ],
   "source": [
    "# Changing Date column to datetime.\n",
    "exchange_rates_df['Date'] = pd.to_datetime(exchange_rates_df['Date'])\n",
    "exchange_rates_df.info()"
   ]
  },
  {
   "cell_type": "code",
   "execution_count": 304,
   "id": "51fff9cb",
   "metadata": {},
   "outputs": [],
   "source": [
    "# Exporting dataframe as csv.\n",
    "exchange_rates_df.to_csv('exchange_rates_df.csv')"
   ]
  }
 ],
 "metadata": {
  "kernelspec": {
   "display_name": "PythonData",
   "language": "python",
   "name": "pythondata"
  },
  "language_info": {
   "codemirror_mode": {
    "name": "ipython",
    "version": 3
   },
   "file_extension": ".py",
   "mimetype": "text/x-python",
   "name": "python",
   "nbconvert_exporter": "python",
   "pygments_lexer": "ipython3",
   "version": "3.7.13"
  }
 },
 "nbformat": 4,
 "nbformat_minor": 5
}
